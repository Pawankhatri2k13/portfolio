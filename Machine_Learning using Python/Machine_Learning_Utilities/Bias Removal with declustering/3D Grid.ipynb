{
 "cells": [
  {
   "cell_type": "markdown",
   "metadata": {},
   "source": [
    "# This Notebook Contains 3D Grid creation and Cell Declustering"
   ]
  },
  {
   "cell_type": "code",
   "execution_count": 1,
   "metadata": {},
   "outputs": [],
   "source": [
    "import pandas as pd"
   ]
  },
  {
   "cell_type": "code",
   "execution_count": 2,
   "metadata": {},
   "outputs": [],
   "source": [
    "data = pd.read_excel(\"Fecto.xlsx\")"
   ]
  },
  {
   "cell_type": "code",
   "execution_count": 3,
   "metadata": {},
   "outputs": [
    {
     "data": {
      "text/html": [
       "<div>\n",
       "<style scoped>\n",
       "    .dataframe tbody tr th:only-of-type {\n",
       "        vertical-align: middle;\n",
       "    }\n",
       "\n",
       "    .dataframe tbody tr th {\n",
       "        vertical-align: top;\n",
       "    }\n",
       "\n",
       "    .dataframe thead th {\n",
       "        text-align: right;\n",
       "    }\n",
       "</style>\n",
       "<table border=\"1\" class=\"dataframe\">\n",
       "  <thead>\n",
       "    <tr style=\"text-align: right;\">\n",
       "      <th></th>\n",
       "      <th>x</th>\n",
       "      <th>y</th>\n",
       "    </tr>\n",
       "  </thead>\n",
       "  <tbody>\n",
       "    <tr>\n",
       "      <th>0</th>\n",
       "      <td>3115490</td>\n",
       "      <td>1144717</td>\n",
       "    </tr>\n",
       "    <tr>\n",
       "      <th>1</th>\n",
       "      <td>3115490</td>\n",
       "      <td>1144717</td>\n",
       "    </tr>\n",
       "    <tr>\n",
       "      <th>2</th>\n",
       "      <td>3115490</td>\n",
       "      <td>1144717</td>\n",
       "    </tr>\n",
       "    <tr>\n",
       "      <th>3</th>\n",
       "      <td>3115490</td>\n",
       "      <td>1144717</td>\n",
       "    </tr>\n",
       "    <tr>\n",
       "      <th>4</th>\n",
       "      <td>3115490</td>\n",
       "      <td>1144717</td>\n",
       "    </tr>\n",
       "  </tbody>\n",
       "</table>\n",
       "</div>"
      ],
      "text/plain": [
       "         x        y\n",
       "0  3115490  1144717\n",
       "1  3115490  1144717\n",
       "2  3115490  1144717\n",
       "3  3115490  1144717\n",
       "4  3115490  1144717"
      ]
     },
     "execution_count": 3,
     "metadata": {},
     "output_type": "execute_result"
    }
   ],
   "source": [
    "data_small = data[['x','y']]\n",
    "data_small.head()"
   ]
  },
  {
   "cell_type": "code",
   "execution_count": 4,
   "metadata": {},
   "outputs": [],
   "source": [
    "clean = data_small.drop_duplicates()"
   ]
  },
  {
   "cell_type": "code",
   "execution_count": 5,
   "metadata": {},
   "outputs": [
    {
     "data": {
      "text/plain": [
       "(91, 2)"
      ]
     },
     "execution_count": 5,
     "metadata": {},
     "output_type": "execute_result"
    }
   ],
   "source": [
    "clean.shape"
   ]
  },
  {
   "cell_type": "code",
   "execution_count": 6,
   "metadata": {},
   "outputs": [],
   "source": [
    "arr = clean.values"
   ]
  },
  {
   "cell_type": "code",
   "execution_count": 7,
   "metadata": {
    "scrolled": true
   },
   "outputs": [
    {
     "data": {
      "text/plain": [
       "(91, 2)"
      ]
     },
     "execution_count": 7,
     "metadata": {},
     "output_type": "execute_result"
    }
   ],
   "source": [
    "arr.shape"
   ]
  },
  {
   "cell_type": "code",
   "execution_count": 8,
   "metadata": {},
   "outputs": [],
   "source": [
    "import numpy as np\n",
    "from scipy.spatial import distance"
   ]
  },
  {
   "cell_type": "code",
   "execution_count": 9,
   "metadata": {},
   "outputs": [],
   "source": [
    "number = 2\n",
    "dist_metric = \"euclidean\"\n",
    "trainCoordinates = arr\n",
    "train_train_dst = distance.cdist(trainCoordinates,trainCoordinates, dist_metric)  "
   ]
  },
  {
   "cell_type": "code",
   "execution_count": 10,
   "metadata": {},
   "outputs": [
    {
     "data": {
      "text/plain": [
       "array([[  0.        , 214.18916873, 269.13379572, ..., 465.92917917,\n",
       "        410.53379885, 333.40215956],\n",
       "       [214.18916873,   0.        , 164.56001945, ..., 390.0064102 ,\n",
       "        460.66582248, 129.55307793],\n",
       "       [269.13379572, 164.56001945,   0.        , ..., 227.5543891 ,\n",
       "        321.99534158, 254.69982332],\n",
       "       ...,\n",
       "       [465.92917917, 390.0064102 , 227.5543891 , ...,   0.        ,\n",
       "        254.69982332, 455.63252737],\n",
       "       [410.53379885, 460.66582248, 321.99534158, ..., 254.69982332,\n",
       "          0.        , 572.75212789],\n",
       "       [333.40215956, 129.55307793, 254.69982332, ..., 455.63252737,\n",
       "        572.75212789,   0.        ]])"
      ]
     },
     "execution_count": 10,
     "metadata": {},
     "output_type": "execute_result"
    }
   ],
   "source": [
    "train_train_dst"
   ]
  },
  {
   "cell_type": "code",
   "execution_count": 11,
   "metadata": {},
   "outputs": [],
   "source": [
    "test_neighbors = []\n",
    "for i in range(0, trainCoordinates.shape[0]):\n",
    "    indices = np.argsort(train_train_dst[i])\n",
    "    sampleNumbers = indices[list(range(number))][1]\n",
    "    neighbor_samples = trainCoordinates[sampleNumbers].reshape(1,2)\n",
    "    neighbor_distance = train_train_dst[i][sampleNumbers].reshape(1,1)\n",
    "    neighbors = np.concatenate((neighbor_samples,neighbor_distance),axis=1)\n",
    "    test_neighbors.append(neighbors.tolist()[0])"
   ]
  },
  {
   "cell_type": "code",
   "execution_count": 12,
   "metadata": {},
   "outputs": [
    {
     "data": {
      "text/plain": [
       "(91, 3)"
      ]
     },
     "execution_count": 12,
     "metadata": {},
     "output_type": "execute_result"
    }
   ],
   "source": [
    "np.array(test_neighbors).shape"
   ]
  },
  {
   "cell_type": "code",
   "execution_count": 13,
   "metadata": {},
   "outputs": [
    {
     "data": {
      "text/plain": [
       "27.50099833061911"
      ]
     },
     "execution_count": 13,
     "metadata": {},
     "output_type": "execute_result"
    }
   ],
   "source": [
    "np.array(test_neighbors)[:,2].mean()"
   ]
  },
  {
   "cell_type": "code",
   "execution_count": 14,
   "metadata": {},
   "outputs": [],
   "source": [
    "xmin = data['x'].min()\n",
    "xmax = data['x'].max()\n",
    "ymin = data['y'].min()\n",
    "ymax = data['y'].max()\n",
    "zmin = data['z'].min()\n",
    "zmax = data['z'].max()\n",
    "\n",
    "Area = (xmax-xmin)*(ymax-ymin)*(zmax-zmin)"
   ]
  },
  {
   "cell_type": "code",
   "execution_count": 15,
   "metadata": {},
   "outputs": [
    {
     "data": {
      "text/plain": [
       "175566528.0"
      ]
     },
     "execution_count": 15,
     "metadata": {},
     "output_type": "execute_result"
    }
   ],
   "source": [
    "Area"
   ]
  },
  {
   "cell_type": "code",
   "execution_count": 54,
   "metadata": {},
   "outputs": [],
   "source": [
    "x = np.arange(xmin-1,xmax+1,27.5)\n",
    "y = np.arange(ymin-1,ymax+1,27.5)\n",
    "z = np.arange(zmin-1,zmax+1,3)"
   ]
  },
  {
   "cell_type": "code",
   "execution_count": 55,
   "metadata": {},
   "outputs": [],
   "source": [
    "xAxis, yAxis = np.meshgrid(x, y, sparse=True)\n",
    "grid = np.concatenate((xAxis,np.repeat(yAxis[0],xAxis.shape[1]).reshape(1,-1)),axis=0).T\n",
    "for i in range(1,yAxis.shape[0]):    \n",
    "    arr0 = np.concatenate((xAxis,np.repeat(yAxis[i],xAxis.shape[1]).reshape(1,-1)),axis=0).T\n",
    "    grid = np.concatenate((grid,arr0),axis=0)"
   ]
  },
  {
   "cell_type": "code",
   "execution_count": 56,
   "metadata": {},
   "outputs": [
    {
     "data": {
      "text/plain": [
       "(768, 2)"
      ]
     },
     "execution_count": 56,
     "metadata": {},
     "output_type": "execute_result"
    }
   ],
   "source": [
    "grid.shape"
   ]
  },
  {
   "cell_type": "code",
   "execution_count": 57,
   "metadata": {},
   "outputs": [
    {
     "data": {
      "text/plain": [
       "768"
      ]
     },
     "execution_count": 57,
     "metadata": {},
     "output_type": "execute_result"
    }
   ],
   "source": [
    "x.shape[0]*y.shape[0]"
   ]
  },
  {
   "cell_type": "code",
   "execution_count": 58,
   "metadata": {},
   "outputs": [
    {
     "data": {
      "text/plain": [
       "array([[3115263. , 1144470. ],\n",
       "       [3115290.5, 1144470. ],\n",
       "       [3115318. , 1144470. ],\n",
       "       ...,\n",
       "       [3115840.5, 1145322.5],\n",
       "       [3115868. , 1145322.5],\n",
       "       [3115895.5, 1145322.5]])"
      ]
     },
     "execution_count": 58,
     "metadata": {},
     "output_type": "execute_result"
    }
   ],
   "source": [
    "grid"
   ]
  },
  {
   "cell_type": "code",
   "execution_count": 59,
   "metadata": {},
   "outputs": [],
   "source": [
    "grid = grid.reshape(grid.shape[0],grid.shape[1],1)\n",
    "zAxis = z.reshape(1,1,z.shape[0])"
   ]
  },
  {
   "cell_type": "code",
   "execution_count": 60,
   "metadata": {},
   "outputs": [
    {
     "data": {
      "text/plain": [
       "(83712, 2, 1)"
      ]
     },
     "execution_count": 60,
     "metadata": {},
     "output_type": "execute_result"
    }
   ],
   "source": [
    "grid3D = np.repeat(grid,zAxis.shape[2],axis=0)\n",
    "grid3D.shape"
   ]
  },
  {
   "cell_type": "code",
   "execution_count": 61,
   "metadata": {},
   "outputs": [],
   "source": [
    "lst = []\n",
    "for i in range(grid.shape[0]):\n",
    "    start = i*zAxis.shape[2]\n",
    "    stop = (i+1)*zAxis.shape[2]\n",
    "    arr = grid3D[start:stop].reshape(-1,2)\n",
    "    grid3D_F = np.concatenate((arr,zAxis[0,0].reshape(-1,1)),\n",
    "                          axis=1)\n",
    "    lst.append(grid3D_F)"
   ]
  },
  {
   "cell_type": "code",
   "execution_count": 62,
   "metadata": {},
   "outputs": [],
   "source": [
    "FinalGrid = np.concatenate(lst)"
   ]
  },
  {
   "cell_type": "code",
   "execution_count": 63,
   "metadata": {},
   "outputs": [
    {
     "data": {
      "text/plain": [
       "(83712, 3)"
      ]
     },
     "execution_count": 63,
     "metadata": {},
     "output_type": "execute_result"
    }
   ],
   "source": [
    "FinalGrid.shape"
   ]
  },
  {
   "cell_type": "code",
   "execution_count": 64,
   "metadata": {
    "scrolled": true
   },
   "outputs": [
    {
     "data": {
      "text/plain": [
       "83712"
      ]
     },
     "execution_count": 64,
     "metadata": {},
     "output_type": "execute_result"
    }
   ],
   "source": [
    "x.shape[0]*y.shape[0]*z.shape[0]"
   ]
  },
  {
   "cell_type": "code",
   "execution_count": 65,
   "metadata": {},
   "outputs": [
    {
     "data": {
      "text/plain": [
       "array([3115490., 3115490., 3115490., 3115490., 3115490., 3115490.,\n",
       "       3115490., 3115691., 3115691., 3115691., 3115691., 3115691.,\n",
       "       3115691., 3115691., 3115691., 3115633., 3115633., 3115633.,\n",
       "       3115633., 3115633., 3115633., 3115633., 3115633., 3115548.,\n",
       "       3115548., 3115548., 3115548., 3115548., 3115548., 3115548.,\n",
       "       3115548., 3115692., 3115692., 3115692., 3115692., 3115692.,\n",
       "       3115692., 3115692., 3115692., 3115642., 3115642., 3115642.,\n",
       "       3115642., 3115642., 3115642., 3115642., 3115642., 3115671.,\n",
       "       3115671., 3115671., 3115671., 3115671., 3115671., 3115671.,\n",
       "       3115671., 3115653., 3115653., 3115653., 3115653., 3115653.,\n",
       "       3115653., 3115653., 3115653., 3115574., 3115574., 3115574.,\n",
       "       3115574., 3115574., 3115574., 3115574., 3115574., 3115496.,\n",
       "       3115496., 3115496., 3115496., 3115496., 3115496., 3115496.,\n",
       "       3115496., 3115490., 3115490., 3115490., 3115490., 3115490.,\n",
       "       3115490., 3115490., 3115490., 3115528., 3115528., 3115528.,\n",
       "       3115528., 3115528., 3115528., 3115528., 3115493., 3115493.,\n",
       "       3115493., 3115493., 3115493., 3115493., 3115493., 3115493.,\n",
       "       3115529., 3115529., 3115529., 3115529., 3115529., 3115529.,\n",
       "       3115529., 3115529., 3115653., 3115653., 3115653., 3115653.,\n",
       "       3115653., 3115653., 3115653., 3115653., 3115697., 3115697.,\n",
       "       3115697., 3115697., 3115697., 3115697., 3115697., 3115697.,\n",
       "       3115701., 3115701., 3115701., 3115701., 3115701., 3115701.,\n",
       "       3115701., 3115701., 3115742., 3115742., 3115742., 3115742.,\n",
       "       3115742., 3115742., 3115742., 3115742., 3115631., 3115631.,\n",
       "       3115631., 3115631., 3115631., 3115631., 3115631., 3115631.,\n",
       "       3115617., 3115617., 3115617., 3115617., 3115617., 3115617.,\n",
       "       3115617., 3115617., 3115606., 3115606., 3115606., 3115606.,\n",
       "       3115606., 3115606., 3115606., 3115606., 3115593., 3115593.,\n",
       "       3115593., 3115593., 3115593., 3115593., 3115593., 3115593.,\n",
       "       3115564., 3115564., 3115564., 3115564., 3115564., 3115564.,\n",
       "       3115564., 3115564., 3115545., 3115545., 3115545., 3115545.,\n",
       "       3115545., 3115545., 3115545., 3115545., 3115460., 3115460.,\n",
       "       3115460., 3115460., 3115460., 3115460., 3115460., 3115460.,\n",
       "       3115566., 3115566., 3115566., 3115566., 3115566., 3115566.,\n",
       "       3115566., 3115566., 3115579., 3115579., 3115579., 3115579.,\n",
       "       3115579., 3115579., 3115579., 3115579., 3115696., 3115696.,\n",
       "       3115696., 3115696., 3115696., 3115696., 3115696., 3115696.,\n",
       "       3115596., 3115596., 3115596., 3115596., 3115596., 3115596.,\n",
       "       3115596., 3115596., 3115612., 3115612., 3115612., 3115612.,\n",
       "       3115612., 3115612., 3115612., 3115612., 3115643., 3115643.,\n",
       "       3115643., 3115643., 3115643., 3115643., 3115643., 3115643.,\n",
       "       3115626., 3115626., 3115626., 3115626., 3115626., 3115626.,\n",
       "       3115626., 3115626., 3115613., 3115613., 3115613., 3115613.,\n",
       "       3115613., 3115613., 3115613., 3115613., 3115596., 3115596.,\n",
       "       3115596., 3115596., 3115596., 3115596., 3115596., 3115596.,\n",
       "       3115582., 3115582., 3115582., 3115582., 3115582., 3115582.,\n",
       "       3115582., 3115582., 3115573., 3115573., 3115573., 3115573.,\n",
       "       3115573., 3115573., 3115573., 3115573., 3115561., 3115561.,\n",
       "       3115561., 3115561., 3115561., 3115561., 3115561., 3115561.,\n",
       "       3115546., 3115546., 3115546., 3115546., 3115546., 3115546.,\n",
       "       3115546., 3115546., 3115529., 3115529., 3115529., 3115529.,\n",
       "       3115529., 3115529., 3115529., 3115529., 3115508., 3115508.,\n",
       "       3115508., 3115508., 3115508., 3115508., 3115508., 3115508.,\n",
       "       3115489., 3115489., 3115489., 3115489., 3115489., 3115489.,\n",
       "       3115489., 3115489., 3115476., 3115476., 3115476., 3115476.,\n",
       "       3115476., 3115476., 3115476., 3115476., 3115452., 3115452.,\n",
       "       3115452., 3115452., 3115452., 3115452., 3115452., 3115452.,\n",
       "       3115439., 3115439., 3115439., 3115439., 3115439., 3115439.,\n",
       "       3115439., 3115439., 3115419., 3115419., 3115419., 3115419.,\n",
       "       3115419., 3115419., 3115419., 3115419., 3115401., 3115401.,\n",
       "       3115401., 3115401., 3115401., 3115401., 3115401., 3115401.,\n",
       "       3115380., 3115380., 3115380., 3115380., 3115380., 3115380.,\n",
       "       3115380., 3115380., 3115359., 3115359., 3115359., 3115359.,\n",
       "       3115359., 3115359., 3115359., 3115359., 3115340., 3115340.,\n",
       "       3115340., 3115340., 3115340., 3115340., 3115340., 3115340.,\n",
       "       3115319., 3115319., 3115319., 3115319., 3115319., 3115319.,\n",
       "       3115319., 3115319., 3115295., 3115295., 3115295., 3115295.,\n",
       "       3115295., 3115295., 3115295., 3115295., 3115280., 3115280.,\n",
       "       3115280., 3115280., 3115280., 3115280., 3115280., 3115280.,\n",
       "       3115264., 3115264., 3115264., 3115264., 3115264., 3115264.,\n",
       "       3115264., 3115264., 3115578., 3115578., 3115578., 3115578.,\n",
       "       3115578., 3115578., 3115578., 3115578., 3115576., 3115576.,\n",
       "       3115576., 3115576., 3115576., 3115576., 3115576., 3115576.,\n",
       "       3115575., 3115575., 3115575., 3115575., 3115575., 3115575.,\n",
       "       3115575., 3115575., 3115597., 3115597., 3115597., 3115597.,\n",
       "       3115597., 3115597., 3115597., 3115597., 3115617., 3115617.,\n",
       "       3115617., 3115617., 3115617., 3115617., 3115617., 3115644.,\n",
       "       3115644., 3115644., 3115644., 3115644., 3115644., 3115644.,\n",
       "       3115644., 3115628., 3115628., 3115628., 3115628., 3115628.,\n",
       "       3115628., 3115628., 3115628., 3115620., 3115620., 3115620.,\n",
       "       3115620., 3115620., 3115600., 3115600., 3115600., 3115600.,\n",
       "       3115600., 3115600., 3115600., 3115600., 3115591., 3115591.,\n",
       "       3115591., 3115591., 3115591., 3115591., 3115591., 3115591.,\n",
       "       3115586., 3115586., 3115586., 3115586., 3115586., 3115586.,\n",
       "       3115586., 3115586., 3115676., 3115676., 3115676., 3115676.,\n",
       "       3115676., 3115676., 3115676., 3115676., 3115701., 3115701.,\n",
       "       3115701., 3115701., 3115701., 3115701., 3115701., 3115701.,\n",
       "       3115722., 3115722., 3115722., 3115722., 3115722., 3115715.,\n",
       "       3115715., 3115715., 3115715., 3115715., 3115715., 3115715.,\n",
       "       3115715., 3115695., 3115695., 3115695., 3115695., 3115695.,\n",
       "       3115695., 3115695., 3115695., 3115673., 3115673., 3115673.,\n",
       "       3115673., 3115673., 3115673., 3115673., 3115673., 3115694.,\n",
       "       3115694., 3115694., 3115694., 3115694., 3115694., 3115680.,\n",
       "       3115680., 3115680., 3115680., 3115680., 3115662., 3115662.,\n",
       "       3115662., 3115662., 3115662., 3115662., 3115662., 3115662.,\n",
       "       3115701., 3115701., 3115701., 3115701., 3115701., 3115701.,\n",
       "       3115701., 3115701., 3115749., 3115749., 3115749., 3115749.,\n",
       "       3115749., 3115749., 3115749., 3115749., 3115780., 3115780.,\n",
       "       3115780., 3115780., 3115780., 3115780., 3115780., 3115780.,\n",
       "       3115806., 3115806., 3115806., 3115806., 3115806., 3115806.,\n",
       "       3115806., 3115806., 3115826., 3115826., 3115826., 3115826.,\n",
       "       3115826., 3115826., 3115826., 3115826., 3115711., 3115711.,\n",
       "       3115711., 3115711., 3115711., 3115711., 3115711., 3115711.,\n",
       "       3115723., 3115723., 3115723., 3115723., 3115723., 3115723.,\n",
       "       3115723., 3115723., 3115758., 3115758., 3115758., 3115758.,\n",
       "       3115758., 3115758., 3115758., 3115758., 3115831., 3115831.,\n",
       "       3115831., 3115831., 3115831., 3115831., 3115831., 3115831.,\n",
       "       3115845., 3115845., 3115845., 3115845., 3115845., 3115845.,\n",
       "       3115845., 3115845., 3115870., 3115870., 3115870., 3115870.,\n",
       "       3115870., 3115870., 3115870., 3115870., 3115900., 3115900.,\n",
       "       3115900., 3115900., 3115900., 3115900., 3115900., 3115900.,\n",
       "       3115546., 3115546., 3115546., 3115546., 3115546., 3115546.,\n",
       "       3115546., 3115546., 3115546., 3115546., 3115546., 3115546.,\n",
       "       3115546., 3115546., 3115546., 3115546., 3115546., 3115546.,\n",
       "       3115546., 3115546., 3115546., 3115700., 3115700., 3115700.,\n",
       "       3115700., 3115700., 3115700., 3115700., 3115700., 3115700.,\n",
       "       3115700., 3115700., 3115700., 3115700., 3115700., 3115700.,\n",
       "       3115700., 3115700., 3115700., 3115700., 3115700., 3115700.,\n",
       "       3115700., 3115700., 3115700., 3115700., 3115700., 3115700.,\n",
       "       3115712., 3115712., 3115712., 3115712., 3115712., 3115712.,\n",
       "       3115712., 3115712., 3115712., 3115712., 3115712., 3115712.,\n",
       "       3115712., 3115712., 3115712., 3115712., 3115712., 3115712.,\n",
       "       3115712., 3115712., 3115712., 3115712., 3115712., 3115712.,\n",
       "       3115712., 3115712., 3115712., 3115712., 3115712., 3115712.,\n",
       "       3115712., 3115712., 3115712., 3115712., 3115599., 3115599.,\n",
       "       3115599., 3115599., 3115599., 3115599., 3115599., 3115599.,\n",
       "       3115599., 3115599., 3115599., 3115599., 3115599., 3115599.,\n",
       "       3115599., 3115599., 3115599., 3115599., 3115599., 3115599.,\n",
       "       3115599., 3115599., 3115599., 3115599., 3115599., 3115599.,\n",
       "       3115599., 3115353., 3115353., 3115353., 3115353., 3115353.,\n",
       "       3115353., 3115353., 3115353., 3115353., 3115353., 3115353.,\n",
       "       3115353., 3115353., 3115353., 3115353., 3115353., 3115353.,\n",
       "       3115353., 3115353., 3115353., 3115353., 3115353., 3115353.,\n",
       "       3115353., 3115353., 3115353., 3115353., 3115353., 3115353.,\n",
       "       3115353., 3115353., 3115353., 3115819., 3115819., 3115819.,\n",
       "       3115819., 3115819., 3115819., 3115819., 3115819., 3115819.,\n",
       "       3115819., 3115819., 3115819., 3115819., 3115819., 3115819.,\n",
       "       3115819., 3115819., 3115819., 3115819., 3115819., 3115819.,\n",
       "       3115819., 3115819., 3115819., 3115819., 3115819., 3115819.,\n",
       "       3115819., 3115819.])"
      ]
     },
     "execution_count": 65,
     "metadata": {},
     "output_type": "execute_result"
    }
   ],
   "source": [
    "values[:,0]"
   ]
  },
  {
   "cell_type": "code",
   "execution_count": 66,
   "metadata": {},
   "outputs": [],
   "source": [
    "sample = []\n",
    "for i in range(836):\n",
    "    xSearch = values[i,0]==FinalGrid[:,0]\n",
    "    ySearch = values[i,1]==FinalGrid[:,1]\n",
    "    zSearch = values[i,2]==FinalGrid[:,2]\n",
    "    if np.any(xSearch):# & ySearch & zSearch):\n",
    "        sample.append(i)\n",
    "    if np.any(ySearch):# & ySearch & zSearch):\n",
    "        sample.append(i)\n",
    "    if np.any(zSearch):# & ySearch & zSearch):\n",
    "        sample.append(i)"
   ]
  },
  {
   "cell_type": "code",
   "execution_count": 67,
   "metadata": {},
   "outputs": [
    {
     "data": {
      "text/plain": [
       "16"
      ]
     },
     "execution_count": 67,
     "metadata": {},
     "output_type": "execute_result"
    }
   ],
   "source": [
    "len(sample)"
   ]
  },
  {
   "cell_type": "code",
   "execution_count": null,
   "metadata": {},
   "outputs": [],
   "source": []
  },
  {
   "cell_type": "code",
   "execution_count": 68,
   "metadata": {},
   "outputs": [
    {
     "data": {
      "text/plain": [
       "array([3115263. , 3115290.5, 3115318. , 3115345.5, 3115373. , 3115400.5,\n",
       "       3115428. , 3115455.5, 3115483. , 3115510.5, 3115538. , 3115565.5,\n",
       "       3115593. , 3115620.5, 3115648. , 3115675.5, 3115703. , 3115730.5,\n",
       "       3115758. , 3115785.5, 3115813. , 3115840.5, 3115868. , 3115895.5])"
      ]
     },
     "execution_count": 68,
     "metadata": {},
     "output_type": "execute_result"
    }
   ],
   "source": [
    "x"
   ]
  },
  {
   "cell_type": "code",
   "execution_count": 69,
   "metadata": {},
   "outputs": [],
   "source": [
    "values = data[['x','y','z']].values"
   ]
  },
  {
   "cell_type": "code",
   "execution_count": 70,
   "metadata": {},
   "outputs": [
    {
     "data": {
      "text/plain": [
       "(836, 3)"
      ]
     },
     "execution_count": 70,
     "metadata": {},
     "output_type": "execute_result"
    }
   ],
   "source": [
    "values.shape"
   ]
  },
  {
   "cell_type": "code",
   "execution_count": 71,
   "metadata": {},
   "outputs": [
    {
     "data": {
      "text/plain": [
       "690"
      ]
     },
     "execution_count": 71,
     "metadata": {},
     "output_type": "execute_result"
    }
   ],
   "source": [
    "blocks = []\n",
    "num = 0\n",
    "for i in range(1,len(x)):\n",
    "    for ii in range(1,len(y)):\n",
    "        for iii in range(1,len(z)):\n",
    "            xSearch = (values[:,0]>=x[i-1]) & (values[:,0]<x[i])\n",
    "            ySearch = (values[:,1]>=y[ii-1]) & (values[:,1]<y[ii])\n",
    "            zSearch = (values[:,2]>=z[iii-1]) & (values[:,2]<z[iii])\n",
    "            if np.any(xSearch & ySearch & zSearch):\n",
    "                num+=1\n",
    "                result = values[xSearch & ySearch & zSearch]\n",
    "                blocks.append(result)\n",
    "num"
   ]
  },
  {
   "cell_type": "code",
   "execution_count": 72,
   "metadata": {},
   "outputs": [],
   "source": [
    "num = 0\n",
    "for i in blocks:\n",
    "    num+=len(i)"
   ]
  },
  {
   "cell_type": "code",
   "execution_count": 73,
   "metadata": {
    "scrolled": false
   },
   "outputs": [
    {
     "data": {
      "text/plain": [
       "819"
      ]
     },
     "execution_count": 73,
     "metadata": {},
     "output_type": "execute_result"
    }
   ],
   "source": [
    "num"
   ]
  },
  {
   "cell_type": "code",
   "execution_count": null,
   "metadata": {},
   "outputs": [],
   "source": []
  },
  {
   "cell_type": "code",
   "execution_count": 74,
   "metadata": {},
   "outputs": [
    {
     "data": {
      "text/plain": [
       "array([[3.115280e+06, 1.145153e+06, 7.178300e+02]])"
      ]
     },
     "execution_count": 74,
     "metadata": {},
     "output_type": "execute_result"
    }
   ],
   "source": [
    "blocks[0]"
   ]
  },
  {
   "cell_type": "code",
   "execution_count": 75,
   "metadata": {},
   "outputs": [
    {
     "data": {
      "text/plain": [
       "array([[3.115280e+06, 1.145153e+06, 7.178300e+02]])"
      ]
     },
     "execution_count": 75,
     "metadata": {},
     "output_type": "execute_result"
    }
   ],
   "source": [
    "values[np.where((values == blocks[0][0]).all(axis=1))]"
   ]
  },
  {
   "cell_type": "code",
   "execution_count": 76,
   "metadata": {},
   "outputs": [
    {
     "data": {
      "text/plain": [
       "[[3115280.0, 1145153.0, 717.83]]"
      ]
     },
     "execution_count": 76,
     "metadata": {},
     "output_type": "execute_result"
    }
   ],
   "source": [
    "blocks[0].tolist()"
   ]
  },
  {
   "cell_type": "code",
   "execution_count": 77,
   "metadata": {},
   "outputs": [],
   "source": [
    "for i in blocks:\n",
    "    weights = 1/len(i)"
   ]
  },
  {
   "cell_type": "code",
   "execution_count": 78,
   "metadata": {},
   "outputs": [],
   "source": [
    "N_values = np.concatenate((values, np.ones(values.shape[0]).reshape(-1,1)),axis=1)"
   ]
  },
  {
   "cell_type": "code",
   "execution_count": 79,
   "metadata": {},
   "outputs": [
    {
     "data": {
      "text/plain": [
       "array([[3.115490e+06, 1.144717e+06, 6.005000e+02, 1.000000e+00],\n",
       "       [3.115490e+06, 1.144717e+06, 5.975000e+02, 1.000000e+00],\n",
       "       [3.115490e+06, 1.144717e+06, 5.945000e+02, 1.000000e+00],\n",
       "       ...,\n",
       "       [3.115819e+06, 1.144771e+06, 5.055000e+02, 1.000000e+00],\n",
       "       [3.115819e+06, 1.144771e+06, 5.025000e+02, 1.000000e+00],\n",
       "       [3.115819e+06, 1.144771e+06, 5.005000e+02, 1.000000e+00]])"
      ]
     },
     "execution_count": 79,
     "metadata": {},
     "output_type": "execute_result"
    }
   ],
   "source": [
    "N_values"
   ]
  },
  {
   "cell_type": "code",
   "execution_count": 90,
   "metadata": {},
   "outputs": [
    {
     "name": "stdout",
     "output_type": "stream",
     "text": [
      "111\n"
     ]
    }
   ],
   "source": [
    "num = 0\n",
    "block_combined = []\n",
    "for i in blocks:\n",
    "    weights = 1/len(i)\n",
    "    if len(i)==1:\n",
    "        N_values[np.where((values == i[0]).all(axis=1)),3]=weights\n",
    "    else:\n",
    "        block_combined.append(len(i))\n",
    "        for ii in i:\n",
    "            N_values[np.where((values == [ii]).all(axis=1)),3]=weights\n",
    "        num+=1\n",
    "\n",
    "print(num)"
   ]
  },
  {
   "cell_type": "code",
   "execution_count": 93,
   "metadata": {},
   "outputs": [
    {
     "data": {
      "text/plain": [
       "Counter({2: 97, 3: 11, 5: 1, 4: 2})"
      ]
     },
     "execution_count": 93,
     "metadata": {},
     "output_type": "execute_result"
    }
   ],
   "source": [
    "from collections import Counter\n",
    "Counter(block_combined)"
   ]
  },
  {
   "cell_type": "code",
   "execution_count": null,
   "metadata": {},
   "outputs": [],
   "source": []
  },
  {
   "cell_type": "code",
   "execution_count": 83,
   "metadata": {},
   "outputs": [
    {
     "data": {
      "text/plain": [
       "array([[3.115490e+06, 1.144717e+06, 6.005000e+02, 1.000000e+00],\n",
       "       [3.115490e+06, 1.144717e+06, 5.975000e+02, 1.000000e+00],\n",
       "       [3.115490e+06, 1.144717e+06, 5.945000e+02, 1.000000e+00],\n",
       "       ...,\n",
       "       [3.115819e+06, 1.144771e+06, 5.055000e+02, 1.000000e+00],\n",
       "       [3.115819e+06, 1.144771e+06, 5.025000e+02, 5.000000e-01],\n",
       "       [3.115819e+06, 1.144771e+06, 5.005000e+02, 5.000000e-01]])"
      ]
     },
     "execution_count": 83,
     "metadata": {},
     "output_type": "execute_result"
    }
   ],
   "source": [
    "N_values"
   ]
  },
  {
   "cell_type": "code",
   "execution_count": 121,
   "metadata": {},
   "outputs": [],
   "source": [
    "np.savetxt(\"weights.csv\", N_values, delimiter=\",\")"
   ]
  },
  {
   "cell_type": "code",
   "execution_count": 96,
   "metadata": {},
   "outputs": [
    {
     "data": {
      "text/plain": [
       "<matplotlib.colorbar.Colorbar at 0x219307364c8>"
      ]
     },
     "execution_count": 96,
     "metadata": {},
     "output_type": "execute_result"
    },
    {
     "data": {
      "image/png": "[encoded data removed]",
      "text/plain": [
       "<Figure size 864x288 with 2 Axes>"
      ]
     },
     "metadata": {
      "needs_background": "light"
     },
     "output_type": "display_data"
    }
   ],
   "source": [
    "import matplotlib.pyplot as plt\n",
    "plt.figure(figsize=(12,4))\n",
    "plt.scatter(N_values[:,0],N_values[:,1],c=N_values[:,3])\n",
    "plt.colorbar()"
   ]
  },
  {
   "cell_type": "code",
   "execution_count": 97,
   "metadata": {},
   "outputs": [
    {
     "data": {
      "text/plain": [
       "240"
      ]
     },
     "execution_count": 97,
     "metadata": {},
     "output_type": "execute_result"
    }
   ],
   "source": [
    "len(N_values[N_values[:,3]<1])"
   ]
  },
  {
   "cell_type": "code",
   "execution_count": 98,
   "metadata": {},
   "outputs": [
    {
     "data": {
      "text/plain": [
       "46"
      ]
     },
     "execution_count": 98,
     "metadata": {},
     "output_type": "execute_result"
    }
   ],
   "source": [
    "len(N_values[N_values[:,3]<0.5])"
   ]
  },
  {
   "cell_type": "code",
   "execution_count": null,
   "metadata": {},
   "outputs": [],
   "source": []
  },
  {
   "cell_type": "code",
   "execution_count": 118,
   "metadata": {},
   "outputs": [],
   "source": [
    "col = ['CaO', 'Al2O3', 'Fe2O3', 'MgO', 'K2O', 'SiO2', 'Na2O','SO3']\n",
    "\n",
    "for i in col:\n",
    "    data[i] = data[i]*N_values[:,3]"
   ]
  },
  {
   "cell_type": "code",
   "execution_count": 119,
   "metadata": {},
   "outputs": [
    {
     "data": {
      "text/html": [
       "<div>\n",
       "<style scoped>\n",
       "    .dataframe tbody tr th:only-of-type {\n",
       "        vertical-align: middle;\n",
       "    }\n",
       "\n",
       "    .dataframe tbody tr th {\n",
       "        vertical-align: top;\n",
       "    }\n",
       "\n",
       "    .dataframe thead th {\n",
       "        text-align: right;\n",
       "    }\n",
       "</style>\n",
       "<table border=\"1\" class=\"dataframe\">\n",
       "  <thead>\n",
       "    <tr style=\"text-align: right;\">\n",
       "      <th></th>\n",
       "      <th>x</th>\n",
       "      <th>y</th>\n",
       "      <th>z</th>\n",
       "      <th>CaO</th>\n",
       "      <th>Al2O3</th>\n",
       "      <th>Fe2O3</th>\n",
       "      <th>MgO</th>\n",
       "      <th>K2O</th>\n",
       "      <th>SiO2</th>\n",
       "      <th>Na2O</th>\n",
       "      <th>SO3</th>\n",
       "    </tr>\n",
       "  </thead>\n",
       "  <tbody>\n",
       "    <tr>\n",
       "      <th>0</th>\n",
       "      <td>3115490</td>\n",
       "      <td>1144717</td>\n",
       "      <td>600.5</td>\n",
       "      <td>28.49</td>\n",
       "      <td>8.78</td>\n",
       "      <td>3.190</td>\n",
       "      <td>0.30</td>\n",
       "      <td>0.890</td>\n",
       "      <td>29.80</td>\n",
       "      <td>0.4</td>\n",
       "      <td>0.0</td>\n",
       "    </tr>\n",
       "    <tr>\n",
       "      <th>1</th>\n",
       "      <td>3115490</td>\n",
       "      <td>1144717</td>\n",
       "      <td>597.5</td>\n",
       "      <td>29.91</td>\n",
       "      <td>9.24</td>\n",
       "      <td>3.920</td>\n",
       "      <td>0.00</td>\n",
       "      <td>0.720</td>\n",
       "      <td>27.70</td>\n",
       "      <td>0.2</td>\n",
       "      <td>0.0</td>\n",
       "    </tr>\n",
       "    <tr>\n",
       "      <th>2</th>\n",
       "      <td>3115490</td>\n",
       "      <td>1144717</td>\n",
       "      <td>594.5</td>\n",
       "      <td>17.20</td>\n",
       "      <td>13.40</td>\n",
       "      <td>5.430</td>\n",
       "      <td>0.60</td>\n",
       "      <td>1.090</td>\n",
       "      <td>40.20</td>\n",
       "      <td>0.4</td>\n",
       "      <td>0.0</td>\n",
       "    </tr>\n",
       "    <tr>\n",
       "      <th>3</th>\n",
       "      <td>3115490</td>\n",
       "      <td>1144717</td>\n",
       "      <td>591.5</td>\n",
       "      <td>21.44</td>\n",
       "      <td>11.97</td>\n",
       "      <td>5.000</td>\n",
       "      <td>0.40</td>\n",
       "      <td>1.070</td>\n",
       "      <td>35.50</td>\n",
       "      <td>0.5</td>\n",
       "      <td>0.0</td>\n",
       "    </tr>\n",
       "    <tr>\n",
       "      <th>4</th>\n",
       "      <td>3115490</td>\n",
       "      <td>1144717</td>\n",
       "      <td>588.5</td>\n",
       "      <td>15.65</td>\n",
       "      <td>13.09</td>\n",
       "      <td>5.150</td>\n",
       "      <td>0.50</td>\n",
       "      <td>1.220</td>\n",
       "      <td>44.00</td>\n",
       "      <td>0.5</td>\n",
       "      <td>0.0</td>\n",
       "    </tr>\n",
       "    <tr>\n",
       "      <th>...</th>\n",
       "      <td>...</td>\n",
       "      <td>...</td>\n",
       "      <td>...</td>\n",
       "      <td>...</td>\n",
       "      <td>...</td>\n",
       "      <td>...</td>\n",
       "      <td>...</td>\n",
       "      <td>...</td>\n",
       "      <td>...</td>\n",
       "      <td>...</td>\n",
       "      <td>...</td>\n",
       "    </tr>\n",
       "    <tr>\n",
       "      <th>831</th>\n",
       "      <td>3115819</td>\n",
       "      <td>1144771</td>\n",
       "      <td>511.5</td>\n",
       "      <td>54.01</td>\n",
       "      <td>0.23</td>\n",
       "      <td>0.220</td>\n",
       "      <td>0.70</td>\n",
       "      <td>0.020</td>\n",
       "      <td>1.10</td>\n",
       "      <td>0.0</td>\n",
       "      <td>0.1</td>\n",
       "    </tr>\n",
       "    <tr>\n",
       "      <th>832</th>\n",
       "      <td>3115819</td>\n",
       "      <td>1144771</td>\n",
       "      <td>508.5</td>\n",
       "      <td>53.26</td>\n",
       "      <td>0.44</td>\n",
       "      <td>0.370</td>\n",
       "      <td>1.20</td>\n",
       "      <td>0.030</td>\n",
       "      <td>2.10</td>\n",
       "      <td>0.0</td>\n",
       "      <td>0.1</td>\n",
       "    </tr>\n",
       "    <tr>\n",
       "      <th>833</th>\n",
       "      <td>3115819</td>\n",
       "      <td>1144771</td>\n",
       "      <td>505.5</td>\n",
       "      <td>53.47</td>\n",
       "      <td>0.37</td>\n",
       "      <td>0.360</td>\n",
       "      <td>1.10</td>\n",
       "      <td>0.030</td>\n",
       "      <td>2.00</td>\n",
       "      <td>0.0</td>\n",
       "      <td>0.1</td>\n",
       "    </tr>\n",
       "    <tr>\n",
       "      <th>834</th>\n",
       "      <td>3115819</td>\n",
       "      <td>1144771</td>\n",
       "      <td>502.5</td>\n",
       "      <td>26.94</td>\n",
       "      <td>0.11</td>\n",
       "      <td>0.175</td>\n",
       "      <td>0.35</td>\n",
       "      <td>0.015</td>\n",
       "      <td>0.95</td>\n",
       "      <td>0.0</td>\n",
       "      <td>0.0</td>\n",
       "    </tr>\n",
       "    <tr>\n",
       "      <th>835</th>\n",
       "      <td>3115819</td>\n",
       "      <td>1144771</td>\n",
       "      <td>500.5</td>\n",
       "      <td>26.94</td>\n",
       "      <td>0.11</td>\n",
       "      <td>0.175</td>\n",
       "      <td>0.35</td>\n",
       "      <td>0.015</td>\n",
       "      <td>0.95</td>\n",
       "      <td>0.0</td>\n",
       "      <td>0.0</td>\n",
       "    </tr>\n",
       "  </tbody>\n",
       "</table>\n",
       "<p>836 rows × 11 columns</p>\n",
       "</div>"
      ],
      "text/plain": [
       "           x        y      z    CaO  Al2O3  Fe2O3   MgO    K2O   SiO2  Na2O  \\\n",
       "0    3115490  1144717  600.5  28.49   8.78  3.190  0.30  0.890  29.80   0.4   \n",
       "1    3115490  1144717  597.5  29.91   9.24  3.920  0.00  0.720  27.70   0.2   \n",
       "2    3115490  1144717  594.5  17.20  13.40  5.430  0.60  1.090  40.20   0.4   \n",
       "3    3115490  1144717  591.5  21.44  11.97  5.000  0.40  1.070  35.50   0.5   \n",
       "4    3115490  1144717  588.5  15.65  13.09  5.150  0.50  1.220  44.00   0.5   \n",
       "..       ...      ...    ...    ...    ...    ...   ...    ...    ...   ...   \n",
       "831  3115819  1144771  511.5  54.01   0.23  0.220  0.70  0.020   1.10   0.0   \n",
       "832  3115819  1144771  508.5  53.26   0.44  0.370  1.20  0.030   2.10   0.0   \n",
       "833  3115819  1144771  505.5  53.47   0.37  0.360  1.10  0.030   2.00   0.0   \n",
       "834  3115819  1144771  502.5  26.94   0.11  0.175  0.35  0.015   0.95   0.0   \n",
       "835  3115819  1144771  500.5  26.94   0.11  0.175  0.35  0.015   0.95   0.0   \n",
       "\n",
       "     SO3  \n",
       "0    0.0  \n",
       "1    0.0  \n",
       "2    0.0  \n",
       "3    0.0  \n",
       "4    0.0  \n",
       "..   ...  \n",
       "831  0.1  \n",
       "832  0.1  \n",
       "833  0.1  \n",
       "834  0.0  \n",
       "835  0.0  \n",
       "\n",
       "[836 rows x 11 columns]"
      ]
     },
     "execution_count": 119,
     "metadata": {},
     "output_type": "execute_result"
    }
   ],
   "source": [
    "data"
   ]
  },
  {
   "cell_type": "code",
   "execution_count": 120,
   "metadata": {},
   "outputs": [],
   "source": [
    "data.to_excel(\"data_weighted.xlsx\")"
   ]
  },
  {
   "cell_type": "code",
   "execution_count": null,
   "metadata": {},
   "outputs": [],
   "source": []
  }
 ],
 "metadata": {
  "kernelspec": {
   "display_name": "Python 3",
   "language": "python",
   "name": "python3"
  },
  "language_info": {
   "codemirror_mode": {
    "name": "ipython",
    "version": 3
   },
   "file_extension": ".py",
   "mimetype": "text/x-python",
   "name": "python",
   "nbconvert_exporter": "python",
   "pygments_lexer": "ipython3",
   "version": "3.7.6"
  }
 },
 "nbformat": 4,
 "nbformat_minor": 4
}
