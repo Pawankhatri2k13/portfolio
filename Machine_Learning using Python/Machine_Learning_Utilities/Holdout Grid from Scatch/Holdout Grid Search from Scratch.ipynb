{
 "cells": [
  {
   "cell_type": "markdown",
   "metadata": {},
   "source": [
    "# HoldOut Grid Search"
   ]
  },
  {
   "cell_type": "markdown",
   "metadata": {},
   "source": [
    "###### importing libraries"
   ]
  },
  {
   "cell_type": "code",
   "execution_count": 1,
   "metadata": {},
   "outputs": [],
   "source": [
    "import numpy as np\n",
    "import pandas as pd\n",
    "from scipy.spatial import distance\n",
    "from scipy.stats import pearsonr\n",
    "import itertools\n",
    "from sklearn.model_selection import train_test_split\n",
    "from sklearn.ensemble import RandomForestRegressor"
   ]
  },
  {
   "cell_type": "markdown",
   "metadata": {},
   "source": [
    "###### loading data"
   ]
  },
  {
   "cell_type": "code",
   "execution_count": 2,
   "metadata": {},
   "outputs": [],
   "source": [
    "train = pd.read_excel('walkertrain.xlsx')\n",
    "test = pd.read_excel('walkertest.xlsx')"
   ]
  },
  {
   "cell_type": "code",
   "execution_count": 3,
   "metadata": {},
   "outputs": [],
   "source": [
    "x_tr = train[['x','y']]\n",
    "y_tr = train[['v']]\n",
    "\n",
    "x_te = test[['x','y']]\n",
    "y_te = test['v']"
   ]
  },
  {
   "cell_type": "markdown",
   "metadata": {},
   "source": [
    "###### Main grid search Code"
   ]
  },
  {
   "cell_type": "code",
   "execution_count": 4,
   "metadata": {
    "scrolled": true
   },
   "outputs": [
    {
     "name": "stdout",
     "output_type": "stream",
     "text": [
      "[(3, 3), (3, 4), (4, 3), (4, 4), (5, 3), (5, 4)]\n",
      "\n",
      "6\n"
     ]
    }
   ],
   "source": [
    "# Define ranges for the chosen random forest hyperparameters \n",
    "hyperparams = {\n",
    "    'max_depth': [3, 4, 5],\n",
    "    'min_samples_leaf': [3, 4],\n",
    "}\n",
    "\n",
    "lists = hyperparams.values()\n",
    "\n",
    "# get all param combinations\n",
    "param_combinations = list(itertools.product(*lists))\n",
    "print(param_combinations)\n",
    "print()\n",
    "total_param_combinations = len(param_combinations)\n",
    "print(total_param_combinations)"
   ]
  },
  {
   "cell_type": "code",
   "execution_count": 5,
   "metadata": {},
   "outputs": [],
   "source": [
    "def holdout_grid_search(model, X_train_hp, y_train_hp, X_val_hp, y_val_hp, hyperparams, fixed_hyperparams={}):\n",
    "    '''\n",
    "    Conduct hyperparameter grid search on hold out validation set. Use holdout validation.\n",
    "    Hyperparameters are input as a dictionary mapping each hyperparameter name to the\n",
    "    range of values they should iterate over. Use the cindex function as your evaluation\n",
    "    function.\n",
    "\n",
    "    Input:\n",
    "        model: sklearn model\n",
    "        X_train_hp (dataframe): dataframe for training set input variables\n",
    "        y_train_hp (dataframe): dataframe for training set targets\n",
    "        X_val_hp (dataframe): dataframe for validation set input variables\n",
    "        y_val_hp (dataframe): dataframe for validation set targets\n",
    "        hyperparams (dict): hyperparameter dictionary mapping hyperparameter\n",
    "                            names to range of values for grid search\n",
    "        fixed_hyperparams (dict): dictionary of fixed hyperparameters that\n",
    "                                  are not included in the grid search\n",
    "\n",
    "    Output:\n",
    "        best_estimator (sklearn classifier): fitted sklearn classifier with best performance on\n",
    "                                             validation set\n",
    "        best_hyperparams (dict): hyperparameter dictionary mapping hyperparameter\n",
    "                                 names to values in best_estimator\n",
    "    '''\n",
    "    best_estimator = None\n",
    "    best_hyperparams = {}\n",
    "    \n",
    "    # hold best running score\n",
    "    best_score = 0.0\n",
    "\n",
    "    # get list of param values\n",
    "    lists = hyperparams.values()\n",
    "    \n",
    "    # get all param combinations\n",
    "    param_combinations = list(itertools.product(*lists))\n",
    "    total_param_combinations = len(param_combinations)\n",
    "\n",
    "    # iterate through param combinations\n",
    "    for i, params in enumerate(param_combinations, 1):\n",
    "        # fill param dict with params\n",
    "        param_dict = {}\n",
    "        for param_index, param_name in enumerate(hyperparams):\n",
    "            param_dict[param_name] = params[param_index]\n",
    "            \n",
    "        # create estimator with specified params\n",
    "        estimator = model(**param_dict, **fixed_hyperparams)\n",
    "\n",
    "        # fit estimator\n",
    "        estimator.fit(X_train_hp, y_train_hp)\n",
    "        \n",
    "        # get predictions on validation set\n",
    "        preds = estimator.predict(X_val_hp)\n",
    "        \n",
    "        # compute cindex for predictions\n",
    "        estimator_score = pearsonr(y_val_hp, preds)[0]\n",
    "\n",
    "        print(f'[{i}/{total_param_combinations}] {param_dict}')\n",
    "        print(f'Val pearsonr: {estimator_score}\\n')\n",
    "\n",
    "        # if new high score, update high score, best estimator\n",
    "        # and best params \n",
    "        if estimator_score >= best_score:\n",
    "                best_score = estimator_score\n",
    "                best_estimator = estimator\n",
    "                best_hyperparams = param_dict\n",
    "\n",
    "    # add fixed hyperparamters to best combination of variable hyperparameters\n",
    "    best_hyperparams.update(fixed_hyperparams)\n",
    "    \n",
    "    return best_estimator, best_hyperparams"
   ]
  },
  {
   "cell_type": "code",
   "execution_count": 6,
   "metadata": {},
   "outputs": [],
   "source": [
    "def random_forest_grid_search(X_train, y_train, X_val, y_val):\n",
    "\n",
    "    # Define ranges for the chosen random forest hyperparameters \n",
    "    hyperparams = {\n",
    "\n",
    "        # the maximum depth of trees in the forest (int)\n",
    "        'max_depth': [None,5, 6, 7],\n",
    "        'min_samples_leaf': [1, 2, 3],\n",
    "\n",
    "    }\n",
    "\n",
    "    \n",
    "    fixed_hyperparams = {\n",
    "        'random_state': 42,\n",
    "        'n_estimators': 500,\n",
    "    }\n",
    "    \n",
    "    rf = RandomForestRegressor\n",
    "\n",
    "    best_rf, best_hyperparams = holdout_grid_search(rf, X_train, y_train,\n",
    "                                                    X_val, y_val, hyperparams,\n",
    "                                                    fixed_hyperparams)\n",
    "\n",
    "    print(f\"Best hyperparameters:\\n{best_hyperparams}\")\n",
    "\n",
    "    \n",
    "    y_train_best = best_rf.predict(X_train)\n",
    "    print(f\"Train pearsonr: {pearsonr(y_train, y_train_best)[0]}\")\n",
    "\n",
    "    y_val_best = best_rf.predict(X_val)\n",
    "    print(f\"Val pearsonr: {pearsonr(y_val, y_val_best)[0]}\")\n",
    "    \n",
    "    # add fixed hyperparamters to best combination of variable hyperparameters\n",
    "    best_hyperparams.update(fixed_hyperparams)\n",
    "    \n",
    "    return best_rf, best_hyperparams"
   ]
  },
  {
   "cell_type": "markdown",
   "metadata": {},
   "source": [
    "###### preparing data"
   ]
  },
  {
   "cell_type": "code",
   "execution_count": 7,
   "metadata": {},
   "outputs": [],
   "source": [
    "x_train, x_val, y_train, y_val = train_test_split(x_tr,y_tr,test_size=0.2)"
   ]
  },
  {
   "cell_type": "code",
   "execution_count": 8,
   "metadata": {},
   "outputs": [
    {
     "data": {
      "text/plain": [
       "(376, 2)"
      ]
     },
     "execution_count": 8,
     "metadata": {},
     "output_type": "execute_result"
    }
   ],
   "source": [
    "x_train.shape"
   ]
  },
  {
   "cell_type": "code",
   "execution_count": 9,
   "metadata": {},
   "outputs": [],
   "source": [
    "###\n",
    "dst_tr = distance.cdist(x_train,x_train, \"euclidean\")\n",
    "xtrain = np.concatenate((x_train, dst_tr), axis = 1)\n",
    "\n",
    "###\n",
    "dst_te = distance.cdist(x_val,x_train, \"euclidean\")\n",
    "xval = np.concatenate((x_val, dst_te), axis = 1)"
   ]
  },
  {
   "cell_type": "code",
   "execution_count": 10,
   "metadata": {},
   "outputs": [
    {
     "data": {
      "text/plain": [
       "(376, 378)"
      ]
     },
     "execution_count": 10,
     "metadata": {},
     "output_type": "execute_result"
    }
   ],
   "source": [
    "xtrain.shape"
   ]
  },
  {
   "cell_type": "code",
   "execution_count": 11,
   "metadata": {},
   "outputs": [
    {
     "data": {
      "text/plain": [
       "(94, 378)"
      ]
     },
     "execution_count": 11,
     "metadata": {},
     "output_type": "execute_result"
    }
   ],
   "source": [
    "xval.shape"
   ]
  },
  {
   "cell_type": "code",
   "execution_count": 12,
   "metadata": {},
   "outputs": [
    {
     "data": {
      "text/plain": [
       "(376, 1)"
      ]
     },
     "execution_count": 12,
     "metadata": {},
     "output_type": "execute_result"
    }
   ],
   "source": [
    "y_train.shape"
   ]
  },
  {
   "cell_type": "code",
   "execution_count": 13,
   "metadata": {},
   "outputs": [
    {
     "data": {
      "text/plain": [
       "(94, 1)"
      ]
     },
     "execution_count": 13,
     "metadata": {},
     "output_type": "execute_result"
    }
   ],
   "source": [
    "y_val.shape"
   ]
  },
  {
   "cell_type": "markdown",
   "metadata": {},
   "source": [
    "###### Applying to data"
   ]
  },
  {
   "cell_type": "code",
   "execution_count": 14,
   "metadata": {
    "scrolled": true
   },
   "outputs": [
    {
     "name": "stdout",
     "output_type": "stream",
     "text": [
      "[1/12] {'max_depth': None, 'min_samples_leaf': 1}\n",
      "Val pearsonr: 0.6839816114242607\n",
      "\n",
      "[2/12] {'max_depth': None, 'min_samples_leaf': 2}\n",
      "Val pearsonr: 0.6771305108482462\n",
      "\n",
      "[3/12] {'max_depth': None, 'min_samples_leaf': 3}\n",
      "Val pearsonr: 0.6708229743706622\n",
      "\n",
      "[4/12] {'max_depth': 5, 'min_samples_leaf': 1}\n",
      "Val pearsonr: 0.6652854071687462\n",
      "\n",
      "[5/12] {'max_depth': 5, 'min_samples_leaf': 2}\n",
      "Val pearsonr: 0.6639655366039244\n",
      "\n",
      "[6/12] {'max_depth': 5, 'min_samples_leaf': 3}\n",
      "Val pearsonr: 0.6584690091618948\n",
      "\n",
      "[7/12] {'max_depth': 6, 'min_samples_leaf': 1}\n",
      "Val pearsonr: 0.6730892718390785\n",
      "\n",
      "[8/12] {'max_depth': 6, 'min_samples_leaf': 2}\n",
      "Val pearsonr: 0.6704714779584129\n",
      "\n",
      "[9/12] {'max_depth': 6, 'min_samples_leaf': 3}\n",
      "Val pearsonr: 0.6639798858596782\n",
      "\n",
      "[10/12] {'max_depth': 7, 'min_samples_leaf': 1}\n",
      "Val pearsonr: 0.67947249599229\n",
      "\n",
      "[11/12] {'max_depth': 7, 'min_samples_leaf': 2}\n",
      "Val pearsonr: 0.6774154683616854\n",
      "\n",
      "[12/12] {'max_depth': 7, 'min_samples_leaf': 3}\n",
      "Val pearsonr: 0.6688098826069296\n",
      "\n",
      "Best hyperparameters:\n",
      "{'max_depth': None, 'min_samples_leaf': 1, 'random_state': 42, 'n_estimators': 500}\n",
      "Train pearsonr: 0.9820161985008553\n",
      "Val pearsonr: 0.6839816114242607\n"
     ]
    }
   ],
   "source": [
    "best_rf, best_hyperparams = random_forest_grid_search(xtrain, y_train.values.ravel(), xval, y_val.values.ravel())"
   ]
  },
  {
   "cell_type": "markdown",
   "metadata": {},
   "source": [
    "###### test data final evaluation"
   ]
  },
  {
   "cell_type": "code",
   "execution_count": 19,
   "metadata": {},
   "outputs": [],
   "source": [
    "###\n",
    "dst_tr = distance.cdist(x_tr,x_tr, \"euclidean\")\n",
    "xtrain = np.concatenate((x_tr, dst_tr), axis = 1)\n",
    "\n",
    "###\n",
    "dst_te = distance.cdist(x_te,x_tr, \"euclidean\")\n",
    "xtest = np.concatenate((x_te, dst_te), axis = 1)"
   ]
  },
  {
   "cell_type": "code",
   "execution_count": 16,
   "metadata": {},
   "outputs": [
    {
     "name": "stderr",
     "output_type": "stream",
     "text": [
      "D:\\Anaconda3\\envs\\tf-gpu\\lib\\site-packages\\ipykernel_launcher.py:1: DataConversionWarning: A column-vector y was passed when a 1d array was expected. Please change the shape of y to (n_samples,), for example using ravel().\n",
      "  \"\"\"Entry point for launching an IPython kernel.\n"
     ]
    },
    {
     "data": {
      "text/plain": [
       "RandomForestRegressor(bootstrap=True, ccp_alpha=0.0, criterion='mse',\n",
       "                      max_depth=None, max_features='auto', max_leaf_nodes=None,\n",
       "                      max_samples=None, min_impurity_decrease=0.0,\n",
       "                      min_impurity_split=None, min_samples_leaf=1,\n",
       "                      min_samples_split=2, min_weight_fraction_leaf=0.0,\n",
       "                      n_estimators=500, n_jobs=None, oob_score=False,\n",
       "                      random_state=42, verbose=0, warm_start=False)"
      ]
     },
     "execution_count": 16,
     "metadata": {},
     "output_type": "execute_result"
    }
   ],
   "source": [
    "best_rf.fit(xtrain,y_tr)"
   ]
  },
  {
   "cell_type": "code",
   "execution_count": 17,
   "metadata": {},
   "outputs": [],
   "source": [
    "y_test_best = best_rf.predict(xtest)"
   ]
  },
  {
   "cell_type": "code",
   "execution_count": 18,
   "metadata": {},
   "outputs": [
    {
     "name": "stdout",
     "output_type": "stream",
     "text": [
      "Test pearsonr: 0.794365874654315\n"
     ]
    }
   ],
   "source": [
    "print(f\"Test pearsonr: {pearsonr(y_te.values, y_test_best)[0]}\")"
   ]
  },
  {
   "cell_type": "code",
   "execution_count": null,
   "metadata": {},
   "outputs": [],
   "source": []
  }
 ],
 "metadata": {
  "kernelspec": {
   "display_name": "Python 3",
   "language": "python",
   "name": "python3"
  },
  "language_info": {
   "codemirror_mode": {
    "name": "ipython",
    "version": 3
   },
   "file_extension": ".py",
   "mimetype": "text/x-python",
   "name": "python",
   "nbconvert_exporter": "python",
   "pygments_lexer": "ipython3",
   "version": "3.7.7"
  }
 },
 "nbformat": 4,
 "nbformat_minor": 4
}
