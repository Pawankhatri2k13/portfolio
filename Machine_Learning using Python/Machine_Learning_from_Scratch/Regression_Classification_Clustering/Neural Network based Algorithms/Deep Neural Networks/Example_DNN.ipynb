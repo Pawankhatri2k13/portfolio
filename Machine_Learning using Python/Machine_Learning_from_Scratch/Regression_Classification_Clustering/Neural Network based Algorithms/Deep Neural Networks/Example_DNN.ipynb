{
 "cells": [
  {
   "cell_type": "markdown",
   "metadata": {},
   "source": [
    "<h1><center>This Notebook is example implementation of Deep Neural Networks developed from scratch using Numpy Python.</center></h1>\n",
    "\n",
    "In this notebook, classification task is basically done using image data. The main task is to differentiate between cat and non-cat images. The 209 colored training images and 50 colored testing images are saved in hierarchical data format i.e. with .h5 extension."
   ]
  },
  {
   "cell_type": "markdown",
   "metadata": {},
   "source": [
    "<h3>Importing necessary libraries to load and preprocess data</h3> "
   ]
  },
  {
   "cell_type": "code",
   "execution_count": 1,
   "metadata": {},
   "outputs": [],
   "source": [
    "import numpy as np\n",
    "import h5py\n",
    "import matplotlib.pyplot as plt"
   ]
  },
  {
   "cell_type": "markdown",
   "metadata": {},
   "source": [
    "<h3>Defining Function to load data from .h5 files</h3>"
   ]
  },
  {
   "cell_type": "code",
   "execution_count": 2,
   "metadata": {},
   "outputs": [],
   "source": [
    "def load_data():\n",
    "    train_dataset = h5py.File('train_catvnoncat.h5', \"r\")\n",
    "    train_set_x_orig = np.array(train_dataset[\"train_set_x\"][:]) # your train set features\n",
    "    train_set_y_orig = np.array(train_dataset[\"train_set_y\"][:]) # your train set labels\n",
    "\n",
    "    test_dataset = h5py.File('test_catvnoncat.h5', \"r\")\n",
    "    test_set_x_orig = np.array(test_dataset[\"test_set_x\"][:]) # your test set features\n",
    "    test_set_y_orig = np.array(test_dataset[\"test_set_y\"][:]) # your test set labels\n",
    "\n",
    "    classes = np.array(test_dataset[\"list_classes\"][:]) # the list of classes\n",
    "    \n",
    "    train_set_y_orig = train_set_y_orig.reshape((1, train_set_y_orig.shape[0]))\n",
    "    test_set_y_orig = test_set_y_orig.reshape((1, test_set_y_orig.shape[0]))\n",
    "    \n",
    "    return train_set_x_orig, train_set_y_orig, test_set_x_orig, test_set_y_orig, classes"
   ]
  },
  {
   "cell_type": "markdown",
   "metadata": {},
   "source": [
    "### Loading and exploring the dimensions of data"
   ]
  },
  {
   "cell_type": "code",
   "execution_count": 3,
   "metadata": {},
   "outputs": [
    {
     "name": "stdout",
     "output_type": "stream",
     "text": [
      "Number of training examples: 209\n",
      "Number of testing examples: 50\n",
      "Each image is of size: (64, 64, 3)\n",
      "train_x_orig shape: (209, 64, 64, 3)\n",
      "train_y shape: (1, 209)\n",
      "test_x_orig shape: (50, 64, 64, 3)\n",
      "test_y shape: (1, 50)\n"
     ]
    }
   ],
   "source": [
    "train_x_orig, train_y, test_x_orig, test_y, classes = load_data()\n",
    "\n",
    "m_train = train_x_orig.shape[0]\n",
    "num_px = train_x_orig.shape[1]\n",
    "m_test = test_x_orig.shape[0]\n",
    "\n",
    "print (\"Number of training examples: \" + str(m_train))\n",
    "print (\"Number of testing examples: \" + str(m_test))\n",
    "print (\"Each image is of size: (\" + str(num_px) + \", \" + str(num_px) + \", 3)\")\n",
    "print (\"train_x_orig shape: \" + str(train_x_orig.shape))\n",
    "print (\"train_y shape: \" + str(train_y.shape))\n",
    "print (\"test_x_orig shape: \" + str(test_x_orig.shape))\n",
    "print (\"test_y shape: \" + str(test_y.shape))"
   ]
  },
  {
   "cell_type": "markdown",
   "metadata": {},
   "source": [
    "### Flattening the images data"
   ]
  },
  {
   "cell_type": "code",
   "execution_count": 4,
   "metadata": {},
   "outputs": [
    {
     "name": "stdout",
     "output_type": "stream",
     "text": [
      "flattening converts 3 dimensions of 64,64,3 into single dimension of 12288\n",
      "After flattening, training data features are 12288 and images are 209.\n",
      "After flattening, testing data features are 12288 and images are 50.\n"
     ]
    }
   ],
   "source": [
    "train_x_flatten = train_x_orig.reshape(train_x_orig.shape[0], -1).T  \n",
    "test_x_flatten = test_x_orig.reshape(test_x_orig.shape[0], -1).T\n",
    "print(\"flattening converts 3 dimensions of 64,64,3 into single dimension of 12288\")\n",
    "print(\"After flattening, training data features are {} and images are {}.\".format(train_x_flatten.shape[0],\n",
    "                                                                                                 train_x_flatten.shape[1]))\n",
    "print(\"After flattening, testing data features are {} and images are {}.\".format(test_x_flatten.shape[0],\n",
    "                                                                                                test_x_flatten.shape[1]))"
   ]
  },
  {
   "cell_type": "markdown",
   "metadata": {},
   "source": [
    "### Printing one of the image on screen to see if data is loaded correctly"
   ]
  },
  {
   "cell_type": "code",
   "execution_count": 5,
   "metadata": {},
   "outputs": [
    {
     "name": "stdout",
     "output_type": "stream",
     "text": [
      "y = 0. It's a non-cat picture.\n"
     ]
    },
    {
     "data": {
      "image/png": "[encoded data removed]",
      "text/plain": [
       "<Figure size 432x288 with 1 Axes>"
      ]
     },
     "metadata": {
      "needs_background": "light"
     },
     "output_type": "display_data"
    }
   ],
   "source": [
    "index = 10\n",
    "plt.imshow(train_x_orig[index])\n",
    "print (\"y = \" + str(train_y[0,index]) + \". It's a \" + classes[train_y[0,index]].decode(\"utf-8\") +  \" picture.\")\n"
   ]
  },
  {
   "cell_type": "markdown",
   "metadata": {},
   "source": [
    "### Standardize data to have feature values between 0 and 1"
   ]
  },
  {
   "cell_type": "code",
   "execution_count": 6,
   "metadata": {},
   "outputs": [],
   "source": [
    "train_x = train_x_flatten/255.\n",
    "test_x = test_x_flatten/255."
   ]
  },
  {
   "cell_type": "markdown",
   "metadata": {},
   "source": [
    "<h1><center>Actual Implementation</center></h1>"
   ]
  },
  {
   "cell_type": "markdown",
   "metadata": {},
   "source": [
    "### Import the class DNN from DeepNeuralNetworks Python file"
   ]
  },
  {
   "cell_type": "code",
   "execution_count": 7,
   "metadata": {},
   "outputs": [],
   "source": [
    "from DeepNeuralNetworks import DNN"
   ]
  },
  {
   "cell_type": "markdown",
   "metadata": {},
   "source": [
    "### Define the structure of DNN\n",
    "Below is 4-layer model having nodes 12288, 20, 7, and 5 respectively.\\\n",
    "It also contains output layer having 1 node."
   ]
  },
  {
   "cell_type": "code",
   "execution_count": 8,
   "metadata": {},
   "outputs": [],
   "source": [
    "layers_dims = [12288, 20, 7, 5, 1] "
   ]
  },
  {
   "cell_type": "markdown",
   "metadata": {},
   "source": [
    "### Create an Instance of Class DNN with all necessary parameters"
   ]
  },
  {
   "cell_type": "code",
   "execution_count": 9,
   "metadata": {},
   "outputs": [],
   "source": [
    "clf = DNN(layers_dims,num_iterations=1000,learning_rate=0.0075,\n",
    "  weight_initialization=\"He\",internal_activation=\"relu\",output_activation=\"sigmoid\",\n",
    "  L2_regularization=False,lambd=0.1,dropout=False,keep_prob=0.9,\n",
    "  optimization=\"GD\", alpha=None, eps=None,\n",
    "  seed=3,verbose=True,optimum_parameters=None)"
   ]
  },
  {
   "cell_type": "markdown",
   "metadata": {},
   "source": [
    "### One can see the details using help command for understanding of different parameters"
   ]
  },
  {
   "cell_type": "code",
   "execution_count": 10,
   "metadata": {},
   "outputs": [
    {
     "name": "stdout",
     "output_type": "stream",
     "text": [
      "Help on DNN in module DeepNeuralNetworks object:\n",
      "\n",
      "class DNN(builtins.object)\n",
      " |  DNN(layer_dims, num_iterations, learning_rate, weight_initialization, internal_activation, output_activation, L2_regularization, lambd, dropout, keep_prob, optimization='GD', alpha=0.9, eps=0.0001, seed=42, verbose=True, optimum_parameters=None)\n",
      " |  \n",
      " |  Back Propagation Neural Network Implementation using Numpy\n",
      " |  \n",
      " |  Attributes\n",
      " |  ----------\n",
      " |  layer_dims : list\n",
      " |      list containing the number of neurons/nodes for \n",
      " |      hidden layers and ouput layer e.g. \n",
      " |      [256,128,64,1] means 3-layer neural network having 1 output\n",
      " |  num_iterations : int\n",
      " |      total number of iterations to be run\n",
      " |  learning_rate : float\n",
      " |      the learning rate alpha to be used \n",
      " |  weight_initialization : str\n",
      " |      type of weight initialization strategy to be used e.g. \n",
      " |      \"He\" or \"random\"\n",
      " |  internal_activation : str\n",
      " |      type of activation function to be used for hidden layers e.g.\n",
      " |      \"relu\" or \"sigmoid\"\n",
      " |  output_activation  : str\n",
      " |      type of activation function to be used for output layer\n",
      " |  L2_regularization : Boolean\n",
      " |      if True then l2 regularization is applied to cost function\n",
      " |  lambd : float\n",
      " |      amount of l2 regularization to be applied\n",
      " |  dropout : Boolean\n",
      " |      if True then dropout regularization is applied\n",
      " |      (But this currently is unstable, as it sometimes generate nan values)\n",
      " |  keep_prob : float\n",
      " |      amount of dropout regularization \n",
      " |      (probability of keeping the nodes alive)\n",
      " |  optimization : str\n",
      " |      type of optimization function to be used (default GD) e.g.\n",
      " |      \"GD\" gradient descent or\n",
      " |      \"GD_Momentum\" gradient descent with momentum \n",
      " |      (Currently it does not work)\n",
      " |      \"RMSprop\" \n",
      " |      (Currently it does not work)\n",
      " |  alpha : float\n",
      " |      alpha used in case of optimization is other than GD (default 0.9)\n",
      " |  eps : float\n",
      " |      eps used in case of optimization is other than GD (default 0.0001)\n",
      " |  seed : int\n",
      " |      random seed number for reproducibility of results (default 42)\n",
      " |  verbose : Boolean\n",
      " |      if verbose is True then it outputs the intermediate results on screen.\n",
      " |  optimum_parameters : dict\n",
      " |      in case parameters are known then (dict), if not then (None)\n",
      " |      dict keys will be W1,b1,W2,b2,W3,b3... and values will be numpy array. \n",
      " |      Here 1,2,3 are hidden layer number.\n",
      " |      Shape of numpy array for W1 will be (hidden layer1, input layer)\n",
      " |      Shape of numpy array for b1 will be (hidden layer1, 1)\n",
      " |      Shape of numpy array for W2 will be (hidden layer2, hidden layer1)\n",
      " |      Shape of numpy array for b2 will be (hidden layer2, 1)\n",
      " |      Shape of numpy array for W3 will be (hidden layer3, hidden layer2)\n",
      " |      Shape of numpy array for b3 will be (hidden layer3, 1)\n",
      " |      and so on...\n",
      " |      \n",
      " |  Methods\n",
      " |  -------\n",
      " |  fit(self,X,y)               \n",
      " |      Given input and output along with different options set and defined during\n",
      " |      making of class object,\n",
      " |      This function returns optimized weight and bias parameters for neural network.\n",
      " |  \n",
      " |      Parameters\n",
      " |      ----------\n",
      " |      X : array\n",
      " |          input array of shape (input features, samples)\n",
      " |      Y : array\n",
      " |          output array of shape (output features, samples)\n",
      " |  \n",
      " |      Returns\n",
      " |      -------\n",
      " |      parameters : dict\n",
      " |          updated parameters\n",
      " |          dict keys will be W1,b1,W2,b2,W3,b3... and values will be numpy array. \n",
      " |          Here 1,2,3 are hidden layer number.\n",
      " |          Shape of numpy array for W1 will be (hidden layer1, input layer)\n",
      " |          Shape of numpy array for b1 will be (hidden layer1, 1)\n",
      " |          Shape of numpy array for W2 will be (hidden layer2, hidden layer1)\n",
      " |          Shape of numpy array for b2 will be (hidden layer2, 1)\n",
      " |          Shape of numpy array for W3 will be (hidden layer3, hidden layer2)\n",
      " |          Shape of numpy array for b3 will be (hidden layer3, 1)\n",
      " |          and so on...\n",
      " |      \n",
      " |  predict(self,X, parameters)\n",
      " |      Given training data input and optimized parameters,\n",
      " |      This function returns predicted value\n",
      " |      \n",
      " |      Parameters\n",
      " |      ----------\n",
      " |      X : array\n",
      " |          input array of shape (input features, samples)\n",
      " |      parameters : dict\n",
      " |          updated parameters\n",
      " |          dict keys will be W1,b1,W2,b2,W3,b3... and values will be numpy array. \n",
      " |          Here 1,2,3 are hidden layer number.\n",
      " |          Shape of numpy array for W1 will be (hidden layer1, input layer)\n",
      " |          Shape of numpy array for b1 will be (hidden layer1, 1)\n",
      " |          Shape of numpy array for W2 will be (hidden layer2, hidden layer1)\n",
      " |          Shape of numpy array for b2 will be (hidden layer2, 1)\n",
      " |          Shape of numpy array for W3 will be (hidden layer3, hidden layer2)\n",
      " |          Shape of numpy array for b3 will be (hidden layer3, 1)\n",
      " |          and so on...\n",
      " |  \n",
      " |      Returns\n",
      " |      -------\n",
      " |      p : array\n",
      " |          final prediction values using optimized parameters\n",
      " |  \n",
      " |  Methods defined here:\n",
      " |  \n",
      " |  __init__(self, layer_dims, num_iterations, learning_rate, weight_initialization, internal_activation, output_activation, L2_regularization, lambd, dropout, keep_prob, optimization='GD', alpha=0.9, eps=0.0001, seed=42, verbose=True, optimum_parameters=None)\n",
      " |      Initializes the class with input options and parameters for object creation\n",
      " |      \n",
      " |      Parameters\n",
      " |      ----------\n",
      " |      layer_dims : list\n",
      " |          list containing the number of neurons/nodes for \n",
      " |          hidden layers and ouput layer e.g. \n",
      " |          [256,128,64,1] means 3-layer neural network having 1 output\n",
      " |      num_iterations : int\n",
      " |          total number of iterations to be run\n",
      " |      learning_rate : float\n",
      " |          the learning rate alpha to be used \n",
      " |      weight_initialization : str\n",
      " |          type of weight initialization strategy to be used e.g. \n",
      " |          \"He\" or \"random\"\n",
      " |      internal_activation : str\n",
      " |          type of activation function to be used for hidden layers e.g.\n",
      " |          \"relu\" or \"sigmoid\"\n",
      " |      output_activation  : str\n",
      " |          type of activation function to be used for output layer\n",
      " |      L2_regularization : Boolean\n",
      " |          if True then l2 regularization is applied to cost function\n",
      " |      lambd : float\n",
      " |          amount of l2 regularization to be applied\n",
      " |      dropout : Boolean\n",
      " |          if True then dropout regularization is applied\n",
      " |          (But this currently is unstable, as it sometimes generate nan values)\n",
      " |      keep_prob : float\n",
      " |          amount of dropout regularization \n",
      " |          (probability of keeping the nodes alive)\n",
      " |      optimization : str\n",
      " |          type of optimization function to be used (default GD) e.g.\n",
      " |          \"GD\" gradient descent or\n",
      " |          \"GD_Momentum\" gradient descent with momentum \n",
      " |          (Currently it does not work)\n",
      " |          \"RMSprop\" \n",
      " |          (Currently it does not work)\n",
      " |      alpha : float\n",
      " |          alpha used in case of optimization is other than GD (default 0.9)\n",
      " |      eps : float\n",
      " |          eps used in case of optimization is other than GD (default 0.0001)\n",
      " |      seed : int\n",
      " |          random seed number for reproducibility of results (default 42)\n",
      " |      verbose : Boolean\n",
      " |          if verbose is True then it outputs the intermediate results on screen.\n",
      " |      optimum_parameters : dict\n",
      " |          in case parameters are known then (dict), if not then (None)\n",
      " |          dict keys will be W1,b1,W2,b2,W3,b3... and values will be numpy array. \n",
      " |          Here 1,2,3 are hidden layer number.\n",
      " |          Shape of numpy array for W1 will be (hidden layer1, input layer)\n",
      " |          Shape of numpy array for b1 will be (hidden layer1, 1)\n",
      " |          Shape of numpy array for W2 will be (hidden layer2, hidden layer1)\n",
      " |          Shape of numpy array for b2 will be (hidden layer2, 1)\n",
      " |          Shape of numpy array for W3 will be (hidden layer3, hidden layer2)\n",
      " |          Shape of numpy array for b3 will be (hidden layer3, 1)\n",
      " |          and so on...\n",
      " |      \n",
      " |      Returns\n",
      " |      -------\n",
      " |      None\n",
      " |  \n",
      " |  fit(self, X, Y)\n",
      " |      Given input and output along with different options set and defined during\n",
      " |      making of class object,\n",
      " |      This function returns optimized weight and bias parameters for neural network.\n",
      " |      \n",
      " |      Parameters\n",
      " |      ----------\n",
      " |      X : array\n",
      " |          input array of shape (input features, samples)\n",
      " |      Y : array\n",
      " |          output array of shape (output features, samples)\n",
      " |      \n",
      " |      Returns\n",
      " |      -------\n",
      " |      parameters : dict\n",
      " |          updated parameters\n",
      " |          dict keys will be W1,b1,W2,b2,W3,b3... and values will be numpy array. \n",
      " |          Here 1,2,3 are hidden layer number.\n",
      " |          Shape of numpy array for W1 will be (hidden layer1, input layer)\n",
      " |          Shape of numpy array for b1 will be (hidden layer1, 1)\n",
      " |          Shape of numpy array for W2 will be (hidden layer2, hidden layer1)\n",
      " |          Shape of numpy array for b2 will be (hidden layer2, 1)\n",
      " |          Shape of numpy array for W3 will be (hidden layer3, hidden layer2)\n",
      " |          Shape of numpy array for b3 will be (hidden layer3, 1)\n",
      " |          and so on...\n",
      " |  \n",
      " |  predict(self, X, parameters)\n",
      " |      Given training data input and optimized parameters,\n",
      " |      This function returns predicted value\n",
      " |      \n",
      " |      Parameters\n",
      " |      ----------\n",
      " |      X : array\n",
      " |          input array of shape (input features, samples)\n",
      " |      parameters : dict\n",
      " |          updated parameters\n",
      " |          dict keys will be W1,b1,W2,b2,W3,b3... and values will be numpy array. \n",
      " |          Here 1,2,3 are hidden layer number.\n",
      " |          Shape of numpy array for W1 will be (hidden layer1, input layer)\n",
      " |          Shape of numpy array for b1 will be (hidden layer1, 1)\n",
      " |          Shape of numpy array for W2 will be (hidden layer2, hidden layer1)\n",
      " |          Shape of numpy array for b2 will be (hidden layer2, 1)\n",
      " |          Shape of numpy array for W3 will be (hidden layer3, hidden layer2)\n",
      " |          Shape of numpy array for b3 will be (hidden layer3, 1)\n",
      " |          and so on...\n",
      " |      \n",
      " |      Returns\n",
      " |      -------\n",
      " |      p : array\n",
      " |          final prediction values using optimized parameters\n",
      " |  \n",
      " |  ----------------------------------------------------------------------\n",
      " |  Data descriptors defined here:\n",
      " |  \n",
      " |  __dict__\n",
      " |      dictionary for instance variables (if defined)\n",
      " |  \n",
      " |  __weakref__\n",
      " |      list of weak references to the object (if defined)\n",
      "\n"
     ]
    }
   ],
   "source": [
    "help(clf)"
   ]
  },
  {
   "cell_type": "markdown",
   "metadata": {},
   "source": [
    "### Train the parameters by fitting the model on training data"
   ]
  },
  {
   "cell_type": "code",
   "execution_count": 11,
   "metadata": {},
   "outputs": [
    {
     "name": "stdout",
     "output_type": "stream",
     "text": [
      "Cost after iteration 0: 0.811602\n",
      "Cost after iteration 100: 0.665508\n",
      "Cost after iteration 200: 0.640047\n",
      "Cost after iteration 300: 0.596324\n",
      "Cost after iteration 400: 0.529296\n",
      "Cost after iteration 500: 0.444691\n",
      "Cost after iteration 600: 0.318397\n",
      "Cost after iteration 700: 0.226152\n",
      "Cost after iteration 800: 0.197870\n",
      "Cost after iteration 900: 0.071531\n"
     ]
    },
    {
     "data": {
      "image/png": "[encoded data removed]",
      "text/plain": [
       "<Figure size 432x288 with 1 Axes>"
      ]
     },
     "metadata": {
      "needs_background": "light"
     },
     "output_type": "display_data"
    }
   ],
   "source": [
    "parameters = clf.fit(train_x,train_y)"
   ]
  },
  {
   "cell_type": "markdown",
   "metadata": {},
   "source": [
    "### Predict the training and testing data using optimized parameters and evaluate the model"
   ]
  },
  {
   "cell_type": "code",
   "execution_count": 12,
   "metadata": {},
   "outputs": [
    {
     "name": "stdout",
     "output_type": "stream",
     "text": [
      "Training Accuracy: 0.9952153110047844\n",
      "Testing Accuracy: 0.8\n"
     ]
    }
   ],
   "source": [
    "pred_train = clf.predict(train_x, parameters)\n",
    "print(\"Training Accuracy: \"  + str(np.sum((pred_train == train_y)/train_y.shape[1])))  \n",
    "        \n",
    "pred_test = clf.predict(test_x, parameters)\n",
    "print(\"Testing Accuracy: \"  + str(np.sum((pred_test == test_y)/test_y.shape[1])))  "
   ]
  },
  {
   "cell_type": "code",
   "execution_count": null,
   "metadata": {},
   "outputs": [],
   "source": []
  },
  {
   "cell_type": "code",
   "execution_count": null,
   "metadata": {},
   "outputs": [],
   "source": []
  }
 ],
 "metadata": {
  "kernelspec": {
   "display_name": "Python 3",
   "language": "python",
   "name": "python3"
  },
  "language_info": {
   "codemirror_mode": {
    "name": "ipython",
    "version": 3
   },
   "file_extension": ".py",
   "mimetype": "text/x-python",
   "name": "python",
   "nbconvert_exporter": "python",
   "pygments_lexer": "ipython3",
   "version": "3.7.6"
  }
 },
 "nbformat": 4,
 "nbformat_minor": 2
}
