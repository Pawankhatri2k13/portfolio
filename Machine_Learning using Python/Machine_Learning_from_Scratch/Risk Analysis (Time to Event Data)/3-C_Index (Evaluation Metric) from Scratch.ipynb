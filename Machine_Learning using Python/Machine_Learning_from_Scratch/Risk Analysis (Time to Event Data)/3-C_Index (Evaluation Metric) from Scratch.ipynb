{
 "cells": [
  {
   "cell_type": "markdown",
   "metadata": {},
   "source": [
    "# Classification Metric C-index from Scratch"
   ]
  },
  {
   "cell_type": "code",
   "execution_count": 1,
   "metadata": {
    "colab": {},
    "colab_type": "code",
    "id": "qHjB-KVmwmtR"
   },
   "outputs": [],
   "source": [
    "import numpy as np\n",
    "import pandas as pd\n",
    "import matplotlib.pyplot as plt"
   ]
  },
  {
   "cell_type": "markdown",
   "metadata": {
    "colab_type": "text",
    "id": "3J7NXuQadLnY"
   },
   "source": [
    "###### Load Data"
   ]
  },
  {
   "cell_type": "code",
   "execution_count": 2,
   "metadata": {
    "colab": {},
    "colab_type": "code",
    "id": "FN5Y5hU5yXnE"
   },
   "outputs": [],
   "source": [
    "def generate_data(n=200):\n",
    "    df = pd.DataFrame(\n",
    "        columns=['Age', 'Systolic_BP', 'Diastolic_BP', 'Cholesterol']\n",
    "    )\n",
    "    df.loc[:, 'Age'] = np.exp(np.log(60) + (1 / 7) * np.random.normal(size=n))\n",
    "    df.loc[:, ['Systolic_BP', 'Diastolic_BP', 'Cholesterol']] = np.exp(\n",
    "        np.random.multivariate_normal(\n",
    "            mean=[np.log(100), np.log(90), np.log(100)],\n",
    "            cov=(1 / 45) * np.array([\n",
    "                [0.5, 0.2, 0.2],\n",
    "                [0.2, 0.5, 0.2],\n",
    "                [0.2, 0.2, 0.5]]),\n",
    "            size=n))\n",
    "    return df\n",
    "\n",
    "def f(x):\n",
    "    p = 0.4 * (np.log(x[0]) - np.log(60)) + 0.33 * (\n",
    "            np.log(x[1]) - np.log(100)) + 0.3 * (\n",
    "                np.log(x[3]) - np.log(100)) - 2.0 * (\n",
    "                np.log(x[0]) - np.log(60)) * (\n",
    "                np.log(x[3]) - np.log(100)) + 0.05 * np.random.logistic()\n",
    "    if p > 0.0:\n",
    "        return 1.0\n",
    "    else:\n",
    "        return 0.0\n",
    "    \n",
    "def load_data(n=200):\n",
    "    np.random.seed(0)\n",
    "    df = generate_data(n)\n",
    "    for i in range(len(df)):\n",
    "        df.loc[i, 'y'] = f(df.loc[i, :])\n",
    "        X = df.drop('y', axis=1)\n",
    "        y = df.y\n",
    "    return X, y"
   ]
  },
  {
   "cell_type": "code",
   "execution_count": 3,
   "metadata": {},
   "outputs": [],
   "source": [
    "X, y = load_data(6000)"
   ]
  },
  {
   "cell_type": "code",
   "execution_count": 4,
   "metadata": {
    "colab_type": "text",
    "id": "5yF06E6sZMmD"
   },
   "outputs": [
    {
     "data": {
      "text/html": [
       "<div>\n",
       "<style scoped>\n",
       "    .dataframe tbody tr th:only-of-type {\n",
       "        vertical-align: middle;\n",
       "    }\n",
       "\n",
       "    .dataframe tbody tr th {\n",
       "        vertical-align: top;\n",
       "    }\n",
       "\n",
       "    .dataframe thead th {\n",
       "        text-align: right;\n",
       "    }\n",
       "</style>\n",
       "<table border=\"1\" class=\"dataframe\">\n",
       "  <thead>\n",
       "    <tr style=\"text-align: right;\">\n",
       "      <th></th>\n",
       "      <th>Age</th>\n",
       "      <th>Systolic_BP</th>\n",
       "      <th>Diastolic_BP</th>\n",
       "      <th>Cholesterol</th>\n",
       "    </tr>\n",
       "  </thead>\n",
       "  <tbody>\n",
       "    <tr>\n",
       "      <th>0</th>\n",
       "      <td>77.196340</td>\n",
       "      <td>85.288742</td>\n",
       "      <td>80.021878</td>\n",
       "      <td>79.957109</td>\n",
       "    </tr>\n",
       "    <tr>\n",
       "      <th>1</th>\n",
       "      <td>63.529850</td>\n",
       "      <td>99.379736</td>\n",
       "      <td>84.852361</td>\n",
       "      <td>110.382411</td>\n",
       "    </tr>\n",
       "    <tr>\n",
       "      <th>2</th>\n",
       "      <td>69.003986</td>\n",
       "      <td>111.349455</td>\n",
       "      <td>109.850616</td>\n",
       "      <td>100.828246</td>\n",
       "    </tr>\n",
       "    <tr>\n",
       "      <th>3</th>\n",
       "      <td>82.638210</td>\n",
       "      <td>95.056128</td>\n",
       "      <td>79.666851</td>\n",
       "      <td>87.066303</td>\n",
       "    </tr>\n",
       "    <tr>\n",
       "      <th>4</th>\n",
       "      <td>78.346286</td>\n",
       "      <td>109.154591</td>\n",
       "      <td>90.713220</td>\n",
       "      <td>92.511770</td>\n",
       "    </tr>\n",
       "  </tbody>\n",
       "</table>\n",
       "</div>"
      ],
      "text/plain": [
       "         Age  Systolic_BP  Diastolic_BP  Cholesterol\n",
       "0  77.196340    85.288742     80.021878    79.957109\n",
       "1  63.529850    99.379736     84.852361   110.382411\n",
       "2  69.003986   111.349455    109.850616   100.828246\n",
       "3  82.638210    95.056128     79.666851    87.066303\n",
       "4  78.346286   109.154591     90.713220    92.511770"
      ]
     },
     "execution_count": 4,
     "metadata": {},
     "output_type": "execute_result"
    }
   ],
   "source": [
    "X.head()"
   ]
  },
  {
   "cell_type": "code",
   "execution_count": 5,
   "metadata": {},
   "outputs": [
    {
     "data": {
      "text/plain": [
       "0    1.0\n",
       "1    1.0\n",
       "2    1.0\n",
       "3    1.0\n",
       "4    1.0\n",
       "Name: y, dtype: float64"
      ]
     },
     "execution_count": 5,
     "metadata": {},
     "output_type": "execute_result"
    }
   ],
   "source": [
    "y.head()"
   ]
  },
  {
   "cell_type": "code",
   "execution_count": 6,
   "metadata": {
    "colab": {},
    "colab_type": "code",
    "id": "C9FxG6hDyXnQ"
   },
   "outputs": [],
   "source": [
    "from sklearn.model_selection import train_test_split"
   ]
  },
  {
   "cell_type": "code",
   "execution_count": 7,
   "metadata": {
    "colab": {},
    "colab_type": "code",
    "id": "1fvqevMtFsHh"
   },
   "outputs": [],
   "source": [
    "X_train_raw, X_test_raw, y_train, y_test = train_test_split(X, y, train_size=0.75)"
   ]
  },
  {
   "cell_type": "markdown",
   "metadata": {
    "colab_type": "text",
    "id": "nYgcS0vjdbpc"
   },
   "source": [
    "Plot the histograms of each column of `X_train` below: "
   ]
  },
  {
   "cell_type": "code",
   "execution_count": 8,
   "metadata": {
    "colab": {
     "base_uri": "https://localhost:8080/",
     "height": 1000
    },
    "colab_type": "code",
    "id": "EBckdYHyUudi",
    "outputId": "2e987230-a0eb-40d1-f3a6-ac943cbedf4d"
   },
   "outputs": [
    {
     "data": {
      "image/png": "[encoded data removed]",
      "text/plain": [
       "<Figure size 432x288 with 1 Axes>"
      ]
     },
     "metadata": {
      "needs_background": "light"
     },
     "output_type": "display_data"
    },
    {
     "data": {
      "image/png": "[encoded data removed]",
      "text/plain": [
       "<Figure size 432x288 with 1 Axes>"
      ]
     },
     "metadata": {
      "needs_background": "light"
     },
     "output_type": "display_data"
    },
    {
     "data": {
      "image/png": "[encoded data removed]",
      "text/plain": [
       "<Figure size 432x288 with 1 Axes>"
      ]
     },
     "metadata": {
      "needs_background": "light"
     },
     "output_type": "display_data"
    },
    {
     "data": {
      "image/png": "[encoded data removed]",
      "text/plain": [
       "<Figure size 432x288 with 1 Axes>"
      ]
     },
     "metadata": {
      "needs_background": "light"
     },
     "output_type": "display_data"
    }
   ],
   "source": [
    "for col in X.columns:\n",
    "    X_train_raw.loc[:, col].hist()\n",
    "    plt.title(col)\n",
    "    plt.show()"
   ]
  },
  {
   "cell_type": "markdown",
   "metadata": {},
   "source": [
    "As we can see, the distributions have a generally bell shaped distribution, but with slight rightward skew.\n",
    "\n",
    "Many statistical models assume that the data is normally distributed, forming a symmetric Gaussian bell shape (with no skew) more like the example below."
   ]
  },
  {
   "cell_type": "code",
   "execution_count": 9,
   "metadata": {},
   "outputs": [
    {
     "data": {
      "image/png": "[encoded data removed]",
      "text/plain": [
       "<Figure size 432x288 with 1 Axes>"
      ]
     },
     "metadata": {
      "needs_background": "light"
     },
     "output_type": "display_data"
    }
   ],
   "source": [
    "from scipy.stats import norm\n",
    "data = np.random.normal(50,12, 5000)\n",
    "fitting_params = norm.fit(data)\n",
    "norm_dist_fitted = norm(*fitting_params)\n",
    "t = np.linspace(0,100, 100)\n",
    "plt.hist(data, bins=60, density=True)\n",
    "plt.plot(t, norm_dist_fitted.pdf(t))\n",
    "plt.title('Example of Normally Distributed Data')\n",
    "plt.show()"
   ]
  },
  {
   "cell_type": "markdown",
   "metadata": {
    "colab_type": "text",
    "id": "jhZ3UKs3U-FG"
   },
   "source": [
    "We can transform our data to be closer to a normal distribution by removing the skew. One way to remove the skew is by applying the log function to the data.\n",
    "\n",
    "Let's plot the log of the feature variables to see that it produces the desired effect."
   ]
  },
  {
   "cell_type": "code",
   "execution_count": 10,
   "metadata": {
    "colab": {
     "base_uri": "https://localhost:8080/",
     "height": 1000
    },
    "colab_type": "code",
    "id": "r3fiFAipU9nm",
    "outputId": "c46e9627-4db9-4992-8736-ba974ffadde0"
   },
   "outputs": [
    {
     "data": {
      "image/png": "[encoded data removed]",
      "text/plain": [
       "<Figure size 432x288 with 1 Axes>"
      ]
     },
     "metadata": {
      "needs_background": "light"
     },
     "output_type": "display_data"
    },
    {
     "data": {
      "image/png": "[encoded data removed]",
      "text/plain": [
       "<Figure size 432x288 with 1 Axes>"
      ]
     },
     "metadata": {
      "needs_background": "light"
     },
     "output_type": "display_data"
    },
    {
     "data": {
      "image/png": "[encoded data removed]",
      "text/plain": [
       "<Figure size 432x288 with 1 Axes>"
      ]
     },
     "metadata": {
      "needs_background": "light"
     },
     "output_type": "display_data"
    },
    {
     "data": {
      "image/png": "[encoded data removed]",
      "text/plain": [
       "<Figure size 432x288 with 1 Axes>"
      ]
     },
     "metadata": {
      "needs_background": "light"
     },
     "output_type": "display_data"
    }
   ],
   "source": [
    "for col in X_train_raw.columns:\n",
    "    np.log(X_train_raw.loc[:, col]).hist()\n",
    "    plt.title(col)\n",
    "    plt.show()"
   ]
  },
  {
   "cell_type": "markdown",
   "metadata": {
    "colab_type": "text",
    "id": "84vqBnYZT80j"
   },
   "source": [
    "We can see that the data is more symmetric after taking the log."
   ]
  },
  {
   "cell_type": "markdown",
   "metadata": {
    "colab_type": "text",
    "id": "gnj1zUmaG94h"
   },
   "source": [
    "###### Mean-Normalize the Data\n",
    "\n",
    "Let's now transform our data so that the distributions are closer to standard normal distributions."
   ]
  },
  {
   "cell_type": "code",
   "execution_count": 11,
   "metadata": {
    "colab": {},
    "colab_type": "code",
    "id": "wwqPOiZGRfhv"
   },
   "outputs": [],
   "source": [
    "def make_standard_normal(df_train, df_test):\n",
    "    \"\"\"\n",
    "    In order to make the data closer to a normal distribution, take log\n",
    "    transforms to reduce the skew.\n",
    "    Then standardize the distribution with a mean of zero and standard deviation of 1. \n",
    "  \n",
    "    Args:\n",
    "      df_train (dataframe): unnormalized training data.\n",
    "      df_test (dataframe): unnormalized test data.\n",
    "  \n",
    "    Returns:\n",
    "      df_train_normalized (dateframe): normalized training data.\n",
    "      df_test_normalized (dataframe): normalized test data.\n",
    "    \"\"\"\n",
    "    \n",
    "    # Remove skew by applying the log function to the train set, and to the test set\n",
    "    df_train_unskewed = np.log(df_train)\n",
    "    df_test_unskewed = np.log(df_test)\n",
    "    \n",
    "    #calculate the mean and standard deviation of the training set\n",
    "    mean = df_train_unskewed.mean(axis=0)\n",
    "    stdev = df_train_unskewed.std(axis=0)\n",
    "    \n",
    "    # standardize the training set\n",
    "    df_train_standardized = (df_train_unskewed - mean) / stdev\n",
    "    \n",
    "    # standardize the test set (see instructions and hints above)\n",
    "    df_test_standardized = (df_test_unskewed - mean) / stdev\n",
    "    \n",
    "    return df_train_standardized, df_test_standardized"
   ]
  },
  {
   "cell_type": "markdown",
   "metadata": {
    "colab_type": "text",
    "id": "gran7yoORxQ9"
   },
   "source": [
    "#### Transform training and test data \n",
    "Use the function that you just implemented to make the data distribution closer to a standard normal distribution."
   ]
  },
  {
   "cell_type": "code",
   "execution_count": 12,
   "metadata": {
    "colab": {},
    "colab_type": "code",
    "id": "DDC2ThP_K3Ea"
   },
   "outputs": [],
   "source": [
    "X_train, X_test = make_standard_normal(X_train_raw, X_test_raw)"
   ]
  },
  {
   "cell_type": "markdown",
   "metadata": {
    "colab_type": "text",
    "id": "TnmdKuXDyXnk"
   },
   "source": [
    "After transforming the training and test sets, we'll expect the training set to be centered at zero with a standard deviation of $1$.\n",
    "\n",
    "We will avoid observing the test set during model training in order to avoid biasing the model training process, but let's have a look at the distributions of the transformed training data."
   ]
  },
  {
   "cell_type": "code",
   "execution_count": 13,
   "metadata": {
    "colab": {
     "base_uri": "https://localhost:8080/",
     "height": 1000
    },
    "colab_type": "code",
    "id": "WUYtMPVyyXnk",
    "outputId": "213ebd54-8d2b-4317-9f78-d946bd7fff49"
   },
   "outputs": [
    {
     "data": {
      "image/png": "[encoded data removed]",
      "text/plain": [
       "<Figure size 432x288 with 1 Axes>"
      ]
     },
     "metadata": {
      "needs_background": "light"
     },
     "output_type": "display_data"
    },
    {
     "data": {
      "image/png": "[encoded data removed]",
      "text/plain": [
       "<Figure size 432x288 with 1 Axes>"
      ]
     },
     "metadata": {
      "needs_background": "light"
     },
     "output_type": "display_data"
    },
    {
     "data": {
      "image/png": "[encoded data removed]",
      "text/plain": [
       "<Figure size 432x288 with 1 Axes>"
      ]
     },
     "metadata": {
      "needs_background": "light"
     },
     "output_type": "display_data"
    },
    {
     "data": {
      "image/png": "[encoded data removed]",
      "text/plain": [
       "<Figure size 432x288 with 1 Axes>"
      ]
     },
     "metadata": {
      "needs_background": "light"
     },
     "output_type": "display_data"
    }
   ],
   "source": [
    "for col in X_train.columns:\n",
    "    X_train[col].hist()\n",
    "    plt.title(col)\n",
    "    plt.show()"
   ]
  },
  {
   "cell_type": "markdown",
   "metadata": {
    "colab_type": "text",
    "id": "ovLMYBz6dteZ"
   },
   "source": [
    "###### Build the Model\n",
    "\n",
    "Now we are ready to build the risk model by training logistic regression with our data.\n",
    "\n"
   ]
  },
  {
   "cell_type": "code",
   "execution_count": 14,
   "metadata": {
    "colab": {},
    "colab_type": "code",
    "id": "iLvr0IgoyXnz"
   },
   "outputs": [],
   "source": [
    "def lr_model(X_train, y_train):\n",
    "    \n",
    "    # import the LogisticRegression class\n",
    "    from sklearn.linear_model import LogisticRegression\n",
    "    \n",
    "    # create the model object\n",
    "    model = LogisticRegression()\n",
    "    \n",
    "    # fit the model to the training data\n",
    "    model.fit(X_train, y_train)\n",
    "    \n",
    "    #return the fitted model\n",
    "    return model"
   ]
  },
  {
   "cell_type": "code",
   "execution_count": 15,
   "metadata": {
    "colab": {},
    "colab_type": "code",
    "id": "sG6nr4hCyXn2"
   },
   "outputs": [],
   "source": [
    "model_X = lr_model(X_train, y_train)"
   ]
  },
  {
   "cell_type": "markdown",
   "metadata": {
    "colab_type": "text",
    "id": "YI34GRSgeAaL"
   },
   "source": [
    "###### Evaluate the Model Using the C-index\n",
    "\n",
    "Now that we have a model, we need to evaluate it. We'll do this using the c-index. \n",
    "* The c-index measures the discriminatory power of a risk score. \n",
    "* Intuitively, a higher c-index indicates that the model's prediction is in agreement with the actual outcomes of a pair of patients.\n",
    "* The formula for the c-index is\n",
    "\n",
    "$$ \\mbox{cindex} = \\frac{\\mbox{concordant} + 0.5 \\times \\mbox{ties}}{\\mbox{permissible}} $$\n",
    "\n",
    "* A permissible pair is a pair of patients who have different outcomes.\n",
    "* A concordant pair is a permissible pair in which the patient with the higher risk score also has the worse outcome.\n",
    "* A tie is a permissible pair where the patients have the same risk score.\n",
    "\n"
   ]
  },
  {
   "cell_type": "markdown",
   "metadata": {},
   "source": [
    "* Implement the `cindex` function to compute c-index.\n",
    "* `y_true` is the array of actual patient outcomes, 0 if the patient does not eventually get the disease, and 1 if the patient eventually gets the disease.\n",
    "* `scores` is the risk score of each patient.  These provide relative measures of risk, so they can be any real numbers. By convention, they are always non-negative.\n",
    "* Here is an example of input data and how to interpret it:\n",
    "```Python\n",
    "y_true = [0,1]\n",
    "scores = [0.45, 1.25]\n",
    "```\n",
    "    * There are two patients. Index 0 of each array is associated with patient 0.  Index 1 is associated with patient 1.\n",
    "    * Patient 0 does not have the disease in the future (`y_true` is 0), and based on past information, has a risk score of 0.45.\n",
    "    * Patient 1 has the disease at some point in the future (`y_true` is 1), and based on past information, has a risk score of 1.25."
   ]
  },
  {
   "cell_type": "code",
   "execution_count": 16,
   "metadata": {
    "colab": {},
    "colab_type": "code",
    "id": "a6fzYxG0R7Sp"
   },
   "outputs": [],
   "source": [
    "def cindex(y_true, scores):\n",
    "    '''\n",
    "\n",
    "    Input:\n",
    "    y_true (np.array): a 1-D array of true binary outcomes (values of zero or one)\n",
    "        0: patient does not get the disease\n",
    "        1: patient does get the disease\n",
    "    scores (np.array): a 1-D array of corresponding risk scores output by the model\n",
    "\n",
    "    Output:\n",
    "    c_index (float): (concordant pairs + 0.5*ties) / number of permissible pairs\n",
    "    '''\n",
    "    n = len(y_true)\n",
    "    assert len(scores) == n\n",
    "\n",
    "    concordant = 0\n",
    "    permissible = 0\n",
    "    ties = 0\n",
    "    \n",
    "    # use two nested for loops to go through all unique pairs of patients\n",
    "    for i in range(n):\n",
    "        for j in range(i+1, n):\n",
    "            \n",
    "            # Check if the pair is permissible (the patient outcomes are different)\n",
    "            if y_true[i] != y_true[j]:\n",
    "                # Count the pair if it's permissible\n",
    "                permissible += 1\n",
    "\n",
    "                # For permissible pairs, check if they are concordant or are ties\n",
    "                # check for ties in the score\n",
    "                if scores[i] == scores[j]:\n",
    "                    # count the tie\n",
    "                    ties +=1\n",
    "                    # if it's a tie, we don't need to check patient outcomes, continue to the top of the for loop.\n",
    "                    continue\n",
    "\n",
    "                # case 1: patient i doesn't get the disease, patient j does\n",
    "                if y_true[i] == 0 and y_true[j] == 1:\n",
    "                    # Check if patient i has a lower score than patient j\n",
    "                    if scores[i] < scores[j]:\n",
    "                        # count the concordant pair\n",
    "                        concordant += 1\n",
    "                    # Otherwise if patient i has a higher risk score, it's not a concordant pair.\n",
    "                    # We already checked for ties earlier\n",
    "\n",
    "                # case 2: patient i gets the disease, patient j does not\n",
    "                if y_true[i] == 1 and y_true[j] == 0:\n",
    "                    # Check if patient i has a higher risk score than patient j\n",
    "                    if scores[i] > scores[j]:\n",
    "                        #count the concordant pair\n",
    "                        concordant +=1\n",
    "                    # Otherwise if patient i has a lower risk score, it's not a concordant pair.\n",
    "                    # We already checked for ties earlier\n",
    "\n",
    "    # calculate the c-index using the count of permissible pairs, concordant pairs, and tied pairs.\n",
    "    c_index = (concordant + 0.5* ties)/permissible\n",
    "    \n",
    "    return c_index"
   ]
  },
  {
   "cell_type": "markdown",
   "metadata": {
    "colab_type": "text",
    "id": "b5l0kdOkUO_Y"
   },
   "source": [
    "You can use the following test cases to make sure your implementation is correct."
   ]
  },
  {
   "cell_type": "code",
   "execution_count": 17,
   "metadata": {
    "colab": {
     "base_uri": "https://localhost:8080/",
     "height": 68
    },
    "colab_type": "code",
    "id": "CzmPPfVQN8ET",
    "outputId": "6e4af0e8-1666-4704-f83a-a27b90ce7103"
   },
   "outputs": [
    {
     "name": "stdout",
     "output_type": "stream",
     "text": [
      "Case 1 Output: 0.0\n",
      "Case 2 Output: 1.0\n",
      "Case 3 Output: 0.875\n"
     ]
    },
    {
     "data": {
      "text/plain": [
       "0.875"
      ]
     },
     "execution_count": 17,
     "metadata": {},
     "output_type": "execute_result"
    }
   ],
   "source": [
    "# test\n",
    "y_true = np.array([1.0, 0.0, 0.0, 1.0])\n",
    "\n",
    "# Case 1\n",
    "scores = np.array([0, 1, 1, 0])\n",
    "print('Case 1 Output: {}'.format(cindex(y_true, scores)))\n",
    "\n",
    "# Case 2\n",
    "scores = np.array([1, 0, 0, 1])\n",
    "print('Case 2 Output: {}'.format(cindex(y_true, scores)))\n",
    "\n",
    "# Case 3\n",
    "scores = np.array([0.5, 0.5, 0.0, 1.0])\n",
    "print('Case 3 Output: {}'.format(cindex(y_true, scores)))\n",
    "cindex(y_true, scores)"
   ]
  },
  {
   "cell_type": "markdown",
   "metadata": {
    "colab_type": "text",
    "id": "qHKVO2ipyXoA"
   },
   "source": [
    "#### Expected Output\n",
    "\n",
    "```CPP\n",
    "Case 1 Output: 0.0\n",
    "Case 2 Output: 1.0\n",
    "Case 3 Output: 0.875\n",
    "```"
   ]
  },
  {
   "cell_type": "markdown",
   "metadata": {
    "colab_type": "text",
    "id": "GOEaZigmOPVF"
   },
   "source": [
    "###### Evaluate the Model on the Test Set\n",
    "\n",
    "Now, you can evaluate your trained model on the test set.  \n",
    "\n",
    "To get the predicted probabilities, we use the `predict_proba` method. This method will return the result from the model *before* it is converted to a binary 0 or 1. For each input case, it returns an array of two values which represent the probabilities for both the negative case (patient does not get the disease) and positive case (patient the gets the disease). "
   ]
  },
  {
   "cell_type": "code",
   "execution_count": 18,
   "metadata": {
    "colab": {
     "base_uri": "https://localhost:8080/",
     "height": 34
    },
    "colab_type": "code",
    "id": "_J5TbdH_LSjB",
    "outputId": "e5b8802a-8c41-4f7f-e3ba-428c6cfb5f87"
   },
   "outputs": [
    {
     "name": "stdout",
     "output_type": "stream",
     "text": [
      "c-index on test set is 0.8336\n"
     ]
    }
   ],
   "source": [
    "scores = model_X.predict_proba(X_test)[:, 1]\n",
    "c_index_X_test = cindex(y_test.values, scores)\n",
    "print(f\"c-index on test set is {c_index_X_test:.4f}\")"
   ]
  },
  {
   "cell_type": "markdown",
   "metadata": {
    "colab_type": "text",
    "id": "-BC_HAM6MXWU"
   },
   "source": [
    "Let's plot the coefficients to see which variables (patient features) are having the most effect. You can access the model coefficients by using `model.coef_`"
   ]
  },
  {
   "cell_type": "code",
   "execution_count": 19,
   "metadata": {
    "colab": {
     "base_uri": "https://localhost:8080/",
     "height": 316
    },
    "colab_type": "code",
    "id": "lZeo6AJbMdCq",
    "outputId": "613b4ce8-2d04-40b1-e2ce-d2232a62005f"
   },
   "outputs": [
    {
     "data": {
      "image/png": "[encoded data removed]",
      "text/plain": [
       "<Figure size 432x288 with 1 Axes>"
      ]
     },
     "metadata": {
      "needs_background": "light"
     },
     "output_type": "display_data"
    }
   ],
   "source": [
    "coeffs = pd.DataFrame(data = model_X.coef_, columns = X_train.columns)\n",
    "coeffs.T.plot.bar(legend=None);"
   ]
  },
  {
   "cell_type": "code",
   "execution_count": null,
   "metadata": {},
   "outputs": [],
   "source": []
  },
  {
   "cell_type": "code",
   "execution_count": null,
   "metadata": {},
   "outputs": [],
   "source": []
  }
 ],
 "metadata": {
  "colab": {
   "collapsed_sections": [],
   "include_colab_link": true,
   "name": "C2M1_Assignment.ipynb",
   "provenance": [],
   "toc_visible": true
  },
  "kernelspec": {
   "display_name": "Python 3",
   "language": "python",
   "name": "python3"
  },
  "language_info": {
   "codemirror_mode": {
    "name": "ipython",
    "version": 3
   },
   "file_extension": ".py",
   "mimetype": "text/x-python",
   "name": "python",
   "nbconvert_exporter": "python",
   "pygments_lexer": "ipython3",
   "version": "3.7.7"
  }
 },
 "nbformat": 4,
 "nbformat_minor": 4
}
