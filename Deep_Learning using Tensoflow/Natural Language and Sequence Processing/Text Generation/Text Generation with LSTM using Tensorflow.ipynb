{
 "cells": [
  {
   "cell_type": "markdown",
   "metadata": {},
   "source": [
    "<h1><center>This Notebook Contains LSTM based Text Generation using Tensorflow</center></h1>"
   ]
  },
  {
   "cell_type": "code",
   "execution_count": 1,
   "metadata": {},
   "outputs": [],
   "source": [
    "from tensorflow.keras.preprocessing.sequence import pad_sequences\n",
    "from tensorflow.keras.layers import Embedding, LSTM, Dense, Dropout, Bidirectional\n",
    "from tensorflow.keras.preprocessing.text import Tokenizer\n",
    "from tensorflow.keras.models import Sequential\n",
    "from tensorflow.keras.optimizers import Adam\n",
    "from tensorflow.keras import regularizers\n",
    "import tensorflow.keras.utils as ku \n",
    "import numpy as np"
   ]
  },
  {
   "cell_type": "code",
   "execution_count": 2,
   "metadata": {},
   "outputs": [],
   "source": [
    "tokenizer = Tokenizer()\n",
    "\n",
    "data = open('./sonnets.txt').read()\n",
    "\n",
    "corpus = data.lower().split(\"\\n\")\n",
    "\n",
    "tokenizer.fit_on_texts(corpus)\n",
    "total_words = len(tokenizer.word_index) + 1"
   ]
  },
  {
   "cell_type": "code",
   "execution_count": 3,
   "metadata": {},
   "outputs": [],
   "source": [
    "# create input sequences using list of tokens\n",
    "input_sequences = []\n",
    "for line in corpus:\n",
    "    token_list = tokenizer.texts_to_sequences([line])[0]\n",
    "    for i in range(1, len(token_list)):\n",
    "        n_gram_sequence = token_list[:i+1]\n",
    "        input_sequences.append(n_gram_sequence)"
   ]
  },
  {
   "cell_type": "code",
   "execution_count": 4,
   "metadata": {},
   "outputs": [],
   "source": [
    "# pad sequences \n",
    "max_sequence_len = max([len(x) for x in input_sequences])\n",
    "input_sequences = np.array(pad_sequences(input_sequences, maxlen=max_sequence_len, padding='pre'))"
   ]
  },
  {
   "cell_type": "code",
   "execution_count": 5,
   "metadata": {},
   "outputs": [],
   "source": [
    "# create predictors and label\n",
    "predictors, label = input_sequences[:,:-1],input_sequences[:,-1]\n",
    "\n",
    "label = ku.to_categorical(label, num_classes=total_words)"
   ]
  },
  {
   "cell_type": "code",
   "execution_count": 6,
   "metadata": {},
   "outputs": [
    {
     "name": "stdout",
     "output_type": "stream",
     "text": [
      "Model: \"sequential\"\n",
      "_________________________________________________________________\n",
      "Layer (type)                 Output Shape              Param #   \n",
      "=================================================================\n",
      "embedding (Embedding)        (None, 10, 100)           321100    \n",
      "_________________________________________________________________\n",
      "bidirectional (Bidirectional (None, 10, 300)           301200    \n",
      "_________________________________________________________________\n",
      "dropout (Dropout)            (None, 10, 300)           0         \n",
      "_________________________________________________________________\n",
      "lstm_1 (LSTM)                (None, 100)               160400    \n",
      "_________________________________________________________________\n",
      "dense (Dense)                (None, 1605)              162105    \n",
      "_________________________________________________________________\n",
      "dense_1 (Dense)              (None, 3211)              5156866   \n",
      "=================================================================\n",
      "Total params: 6,101,671\n",
      "Trainable params: 6,101,671\n",
      "Non-trainable params: 0\n",
      "_________________________________________________________________\n",
      "None\n"
     ]
    }
   ],
   "source": [
    "model = Sequential()\n",
    "model.add(Embedding(total_words, 100, input_length=max_sequence_len-1))\n",
    "model.add(Bidirectional(LSTM(150, return_sequences = True)))\n",
    "model.add(Dropout(0.2))\n",
    "model.add(LSTM(100))\n",
    "model.add(Dense(total_words/2, activation='relu', kernel_regularizer=regularizers.l2(0.01)))\n",
    "model.add(Dense(total_words, activation='softmax'))\n",
    "model.compile(loss='categorical_crossentropy', optimizer='adam', metrics=['accuracy'])\n",
    "print(model.summary())"
   ]
  },
  {
   "cell_type": "code",
   "execution_count": 7,
   "metadata": {},
   "outputs": [
    {
     "name": "stdout",
     "output_type": "stream",
     "text": [
      "Train on 15462 samples\n",
      "Epoch 1/100\n",
      "15462/15462 [==============================] - 23s 1ms/sample - loss: 6.9087 - accuracy: 0.0224\n",
      "Epoch 2/100\n",
      "15462/15462 [==============================] - 8s 531us/sample - loss: 6.5031 - accuracy: 0.0210\n",
      "Epoch 3/100\n",
      "15462/15462 [==============================] - 8s 531us/sample - loss: 6.4168 - accuracy: 0.0237\n",
      "Epoch 4/100\n",
      "15462/15462 [==============================] - 8s 532us/sample - loss: 6.3022 - accuracy: 0.0306\n",
      "Epoch 5/100\n",
      "15462/15462 [==============================] - 8s 532us/sample - loss: 6.1938 - accuracy: 0.0356\n",
      "Epoch 6/100\n",
      "15462/15462 [==============================] - 9s 595us/sample - loss: 6.1119 - accuracy: 0.0371\n",
      "Epoch 7/100\n",
      "15462/15462 [==============================] - 9s 608us/sample - loss: 6.0372 - accuracy: 0.0404\n",
      "Epoch 8/100\n",
      "15462/15462 [==============================] - 11s 688us/sample - loss: 5.9602 - accuracy: 0.0435\n",
      "Epoch 9/100\n",
      "15462/15462 [==============================] - 8s 543us/sample - loss: 5.8713 - accuracy: 0.0464\n",
      "Epoch 10/100\n",
      "15462/15462 [==============================] - 8s 544us/sample - loss: 5.7721 - accuracy: 0.0534\n",
      "Epoch 11/100\n",
      "15462/15462 [==============================] - 8s 546us/sample - loss: 5.6652 - accuracy: 0.0598\n",
      "Epoch 12/100\n",
      "15462/15462 [==============================] - 8s 547us/sample - loss: 5.5655 - accuracy: 0.0670\n",
      "Epoch 13/100\n",
      "15462/15462 [==============================] - 8s 546us/sample - loss: 5.4613 - accuracy: 0.0726\n",
      "Epoch 14/100\n",
      "15462/15462 [==============================] - 8s 544us/sample - loss: 5.3526 - accuracy: 0.0806\n",
      "Epoch 15/100\n",
      "15462/15462 [==============================] - 8s 543us/sample - loss: 5.2484 - accuracy: 0.0906\n",
      "Epoch 16/100\n",
      "15462/15462 [==============================] - 10s 669us/sample - loss: 5.1355 - accuracy: 0.0996\n",
      "Epoch 17/100\n",
      "15462/15462 [==============================] - 8s 543us/sample - loss: 5.0353 - accuracy: 0.1045\n",
      "Epoch 18/100\n",
      "15462/15462 [==============================] - 8s 542us/sample - loss: 4.9208 - accuracy: 0.1154\n",
      "Epoch 19/100\n",
      "15462/15462 [==============================] - 8s 542us/sample - loss: 4.8265 - accuracy: 0.1207\n",
      "Epoch 20/100\n",
      "15462/15462 [==============================] - 10s 672us/sample - loss: 4.7169 - accuracy: 0.1335\n",
      "Epoch 21/100\n",
      "15462/15462 [==============================] - 10s 667us/sample - loss: 4.6129 - accuracy: 0.1447\n",
      "Epoch 22/100\n",
      "15462/15462 [==============================] - 11s 684us/sample - loss: 4.5106 - accuracy: 0.1548\n",
      "Epoch 23/100\n",
      "15462/15462 [==============================] - 14s 910us/sample - loss: 4.4073 - accuracy: 0.1671\n",
      "Epoch 24/100\n",
      "15462/15462 [==============================] - 9s 551us/sample - loss: 4.3084 - accuracy: 0.1786\n",
      "Epoch 25/100\n",
      "15462/15462 [==============================] - 8s 536us/sample - loss: 4.2052 - accuracy: 0.1896\n",
      "Epoch 26/100\n",
      "15462/15462 [==============================] - 12s 802us/sample - loss: 4.1093 - accuracy: 0.2025\n",
      "Epoch 27/100\n",
      "15462/15462 [==============================] - 8s 534us/sample - loss: 4.0018 - accuracy: 0.2159\n",
      "Epoch 28/100\n",
      "15462/15462 [==============================] - 11s 683us/sample - loss: 3.9100 - accuracy: 0.2320- loss: 3.9063 - ac\n",
      "Epoch 29/100\n",
      "15462/15462 [==============================] - 8s 534us/sample - loss: 3.8175 - accuracy: 0.2440\n",
      "Epoch 30/100\n",
      "15462/15462 [==============================] - 8s 536us/sample - loss: 3.7256 - accuracy: 0.2593\n",
      "Epoch 31/100\n",
      "15462/15462 [==============================] - 8s 532us/sample - loss: 3.6279 - accuracy: 0.2802\n",
      "Epoch 32/100\n",
      "15462/15462 [==============================] - 10s 679us/sample - loss: 3.5393 - accuracy: 0.2959- loss: 3.507\n",
      "Epoch 33/100\n",
      "15462/15462 [==============================] - 8s 535us/sample - loss: 3.4552 - accuracy: 0.3126\n",
      "Epoch 34/100\n",
      "15462/15462 [==============================] - 8s 533us/sample - loss: 3.3657 - accuracy: 0.3347 -\n",
      "Epoch 35/100\n",
      "15462/15462 [==============================] - 8s 533us/sample - loss: 3.2839 - accuracy: 0.3522\n",
      "Epoch 36/100\n",
      "15462/15462 [==============================] - 8s 538us/sample - loss: 3.2041 - accuracy: 0.3672\n",
      "Epoch 37/100\n",
      "15462/15462 [==============================] - 8s 533us/sample - loss: 3.1326 - accuracy: 0.3847\n",
      "Epoch 38/100\n",
      "15462/15462 [==============================] - 8s 533us/sample - loss: 3.0512 - accuracy: 0.4060\n",
      "Epoch 39/100\n",
      "15462/15462 [==============================] - 8s 531us/sample - loss: 2.9750 - accuracy: 0.4193\n",
      "Epoch 40/100\n",
      "15462/15462 [==============================] - 10s 670us/sample - loss: 2.9072 - accuracy: 0.4377\n",
      "Epoch 41/100\n",
      "15462/15462 [==============================] - 8s 533us/sample - loss: 2.8356 - accuracy: 0.4551\n",
      "Epoch 42/100\n",
      "15462/15462 [==============================] - 8s 533us/sample - loss: 2.7654 - accuracy: 0.4678\n",
      "Epoch 43/100\n",
      "15462/15462 [==============================] - 14s 889us/sample - loss: 2.7139 - accuracy: 0.4806\n",
      "Epoch 44/100\n",
      "15462/15462 [==============================] - 9s 575us/sample - loss: 2.6468 - accuracy: 0.4967\n",
      "Epoch 45/100\n",
      "15462/15462 [==============================] - 8s 532us/sample - loss: 2.5904 - accuracy: 0.5134\n",
      "Epoch 46/100\n",
      "15462/15462 [==============================] - 8s 531us/sample - loss: 2.5378 - accuracy: 0.5221 - loss: 2.5346 - accuracy\n",
      "Epoch 47/100\n",
      "15462/15462 [==============================] - 12s 781us/sample - loss: 2.4790 - accuracy: 0.5365\n",
      "Epoch 48/100\n",
      "15462/15462 [==============================] - 11s 735us/sample - loss: 2.4238 - accuracy: 0.5471\n",
      "Epoch 49/100\n",
      "15462/15462 [==============================] - 12s 808us/sample - loss: 2.3702 - accuracy: 0.5594\n",
      "Epoch 50/100\n",
      "15462/15462 [==============================] - 14s 915us/sample - loss: 2.3347 - accuracy: 0.5661\n",
      "Epoch 51/100\n",
      "15462/15462 [==============================] - 12s 777us/sample - loss: 2.2804 - accuracy: 0.5775\n",
      "Epoch 52/100\n",
      "15462/15462 [==============================] - 12s 797us/sample - loss: 2.2314 - accuracy: 0.5880\n",
      "Epoch 53/100\n",
      "15462/15462 [==============================] - 12s 789us/sample - loss: 2.1943 - accuracy: 0.5971\n",
      "Epoch 54/100\n",
      "15462/15462 [==============================] - 10s 678us/sample - loss: 2.1548 - accuracy: 0.6032\n",
      "Epoch 55/100\n",
      "15462/15462 [==============================] - 14s 913us/sample - loss: 2.1094 - accuracy: 0.6153\n",
      "Epoch 56/100\n",
      "15462/15462 [==============================] - 15s 940us/sample - loss: 2.0657 - accuracy: 0.6268\n",
      "Epoch 57/100\n",
      "15462/15462 [==============================] - 12s 791us/sample - loss: 2.0324 - accuracy: 0.6301\n",
      "Epoch 58/100\n",
      "15462/15462 [==============================] - 14s 894us/sample - loss: 1.9911 - accuracy: 0.6440\n",
      "Epoch 59/100\n",
      "15462/15462 [==============================] - 13s 846us/sample - loss: 1.9568 - accuracy: 0.6486\n",
      "Epoch 60/100\n",
      "15462/15462 [==============================] - 17s 1ms/sample - loss: 1.9305 - accuracy: 0.6549\n",
      "Epoch 61/100\n",
      "15462/15462 [==============================] - 12s 799us/sample - loss: 1.8814 - accuracy: 0.6628- loss: 1.8795 - accuracy: 0.\n",
      "Epoch 62/100\n",
      "15462/15462 [==============================] - 8s 548us/sample - loss: 1.8577 - accuracy: 0.6692\n",
      "Epoch 63/100\n",
      "15462/15462 [==============================] - 14s 930us/sample - loss: 1.8267 - accuracy: 0.6755\n",
      "Epoch 64/100\n",
      "15462/15462 [==============================] - 12s 785us/sample - loss: 1.8017 - accuracy: 0.6779\n",
      "Epoch 65/100\n",
      "15462/15462 [==============================] - 10s 671us/sample - loss: 1.7752 - accuracy: 0.6816\n",
      "Epoch 66/100\n",
      "15462/15462 [==============================] - 14s 913us/sample - loss: 1.7355 - accuracy: 0.6951\n",
      "Epoch 67/100\n",
      "15462/15462 [==============================] - 9s 598us/sample - loss: 1.7157 - accuracy: 0.6978\n",
      "Epoch 68/100\n",
      "15462/15462 [==============================] - 12s 784us/sample - loss: 1.6833 - accuracy: 0.7055\n",
      "Epoch 69/100\n",
      "15462/15462 [==============================] - 11s 725us/sample - loss: 1.6676 - accuracy: 0.7070\n",
      "Epoch 70/100\n",
      "15462/15462 [==============================] - 12s 791us/sample - loss: 1.6468 - accuracy: 0.7150\n",
      "Epoch 71/100\n",
      "15462/15462 [==============================] - 13s 833us/sample - loss: 1.6157 - accuracy: 0.7170\n",
      "Epoch 72/100\n",
      "15462/15462 [==============================] - 12s 771us/sample - loss: 1.6076 - accuracy: 0.7205\n",
      "Epoch 73/100\n",
      "15462/15462 [==============================] - 14s 884us/sample - loss: 1.5790 - accuracy: 0.7237\n",
      "Epoch 74/100\n",
      "15462/15462 [==============================] - 12s 787us/sample - loss: 1.5585 - accuracy: 0.7299\n",
      "Epoch 75/100\n",
      "15462/15462 [==============================] - 12s 786us/sample - loss: 1.5295 - accuracy: 0.7323\n",
      "Epoch 76/100\n",
      "15462/15462 [==============================] - ETA: 0s - loss: 1.4998 - accuracy: 0.74 - 12s 776us/sample - loss: 1.4997 - accuracy: 0.7427\n",
      "Epoch 77/100\n",
      "15462/15462 [==============================] - 14s 922us/sample - loss: 1.4845 - accuracy: 0.7458\n",
      "Epoch 78/100\n",
      "15462/15462 [==============================] - 14s 936us/sample - loss: 1.4800 - accuracy: 0.7424\n",
      "Epoch 79/100\n",
      "15462/15462 [==============================] - 13s 832us/sample - loss: 1.4492 - accuracy: 0.7479\n",
      "Epoch 80/100\n",
      "15462/15462 [==============================] - 14s 916us/sample - loss: 1.4322 - accuracy: 0.7531\n",
      "Epoch 81/100\n",
      "15462/15462 [==============================] - 20s 1ms/sample - loss: 1.4236 - accuracy: 0.7531\n",
      "Epoch 82/100\n",
      "15462/15462 [==============================] - 17s 1ms/sample - loss: 1.4088 - accuracy: 0.7542\n",
      "Epoch 83/100\n",
      "15462/15462 [==============================] - 10s 658us/sample - loss: 1.3846 - accuracy: 0.7626- loss: 1.3803 - \n",
      "Epoch 84/100\n",
      "15462/15462 [==============================] - 10s 630us/sample - loss: 1.3656 - accuracy: 0.7662- loss: 1.3653 - accuracy: 0.76\n",
      "Epoch 85/100\n",
      "15462/15462 [==============================] - 10s 637us/sample - loss: 1.3552 - accuracy: 0.7665\n",
      "Epoch 86/100\n",
      "15462/15462 [==============================] - 10s 659us/sample - loss: 1.3511 - accuracy: 0.7651- loss: 1.3378 - accuracy: 0. - ETA: 0s - loss: 1.3406 \n",
      "Epoch 87/100\n",
      "15462/15462 [==============================] - 10s 642us/sample - loss: 1.3250 - accuracy: 0.7724\n",
      "Epoch 88/100\n",
      "15462/15462 [==============================] - 10s 652us/sample - loss: 1.3181 - accuracy: 0.7722\n",
      "Epoch 89/100\n",
      "15462/15462 [==============================] - 11s 683us/sample - loss: 1.2996 - accuracy: 0.7764\n",
      "Epoch 90/100\n",
      "15462/15462 [==============================] - 10s 615us/sample - loss: 1.2810 - accuracy: 0.7795\n",
      "Epoch 91/100\n",
      "15462/15462 [==============================] - 19s 1ms/sample - loss: 1.2678 - accuracy: 0.7822\n",
      "Epoch 92/100\n",
      "15462/15462 [==============================] - 20s 1ms/sample - loss: 1.2653 - accuracy: 0.7816\n",
      "Epoch 93/100\n",
      "15462/15462 [==============================] - 19s 1ms/sample - loss: 1.2665 - accuracy: 0.7793\n",
      "Epoch 94/100\n",
      "15462/15462 [==============================] - 20s 1ms/sample - loss: 1.2379 - accuracy: 0.7846\n",
      "Epoch 95/100\n",
      "15462/15462 [==============================] - 18s 1ms/sample - loss: 1.2282 - accuracy: 0.7883\n",
      "Epoch 96/100\n",
      "15462/15462 [==============================] - 16s 1ms/sample - loss: 1.2157 - accuracy: 0.7886\n",
      "Epoch 97/100\n",
      "15462/15462 [==============================] - 18s 1ms/sample - loss: 1.2086 - accuracy: 0.7903\n",
      "Epoch 98/100\n",
      "15462/15462 [==============================] - 18s 1ms/sample - loss: 1.1975 - accuracy: 0.7932\n",
      "Epoch 99/100\n",
      "15462/15462 [==============================] - 18s 1ms/sample - loss: 1.1955 - accuracy: 0.7906\n",
      "Epoch 100/100\n",
      "15462/15462 [==============================] - 18s 1ms/sample - loss: 1.1742 - accuracy: 0.7965\n"
     ]
    }
   ],
   "source": [
    "history = model.fit(predictors, label, epochs=100, verbose=1)"
   ]
  },
  {
   "cell_type": "code",
   "execution_count": 8,
   "metadata": {},
   "outputs": [
    {
     "data": {
      "image/png": "[encoded data removed]",
      "text/plain": [
       "<Figure size 432x288 with 1 Axes>"
      ]
     },
     "metadata": {
      "needs_background": "light"
     },
     "output_type": "display_data"
    },
    {
     "data": {
      "image/png": "[encoded data removed]",
      "text/plain": [
       "<Figure size 432x288 with 1 Axes>"
      ]
     },
     "metadata": {
      "needs_background": "light"
     },
     "output_type": "display_data"
    }
   ],
   "source": [
    "import matplotlib.pyplot as plt\n",
    "acc = history.history['accuracy']\n",
    "loss = history.history['loss']\n",
    "epochs = range(len(acc))\n",
    "plt.plot(epochs, acc, 'b', label='Training accuracy')\n",
    "plt.title('Training accuracy')\n",
    "plt.figure()\n",
    "plt.plot(epochs, loss, 'b', label='Training Loss')\n",
    "plt.title('Training loss')\n",
    "plt.legend()\n",
    "plt.show()"
   ]
  },
  {
   "cell_type": "code",
   "execution_count": 9,
   "metadata": {},
   "outputs": [],
   "source": [
    "seed_text = \"Help me Obi Wan Kenobi, you're my only hope\"\n",
    "next_words = 100"
   ]
  },
  {
   "cell_type": "code",
   "execution_count": 10,
   "metadata": {},
   "outputs": [
    {
     "name": "stdout",
     "output_type": "stream",
     "text": [
      "Help me Obi Wan Kenobi, you're my only hope up but still alone like her due to say your it is not so write for thine eye is a lips of youth a devil dear complexion hate can moan thee out that pleasure for mine eye when he was fullness remain light another way days lies fire eyes prove thy chest tell grow lack lack lack waste new new old old account of thine own eyes lies enemies to kings desire from bear least sea's height days spread stand every foul pride show thee let me have remove do live my deeds of thee will keep there doth shown\n"
     ]
    }
   ],
   "source": [
    "for _ in range(next_words):\n",
    "\ttoken_list = tokenizer.texts_to_sequences([seed_text])[0]\n",
    "\ttoken_list = pad_sequences([token_list], maxlen=max_sequence_len-1, padding='pre')\n",
    "\tpredicted = model.predict_classes(token_list, verbose=0)\n",
    "\toutput_word = \"\"\n",
    "\tfor word, index in tokenizer.word_index.items():\n",
    "\t\tif index == predicted:\n",
    "\t\t\toutput_word = word\n",
    "\t\t\tbreak\n",
    "\tseed_text += \" \" + output_word\n",
    "print(seed_text)"
   ]
  },
  {
   "cell_type": "code",
   "execution_count": null,
   "metadata": {},
   "outputs": [],
   "source": []
  },
  {
   "cell_type": "code",
   "execution_count": null,
   "metadata": {},
   "outputs": [],
   "source": []
  }
 ],
 "metadata": {
  "kernelspec": {
   "display_name": "Python 3",
   "language": "python",
   "name": "python3"
  },
  "language_info": {
   "codemirror_mode": {
    "name": "ipython",
    "version": 3
   },
   "file_extension": ".py",
   "mimetype": "text/x-python",
   "name": "python",
   "nbconvert_exporter": "python",
   "pygments_lexer": "ipython3",
   "version": "3.7.7"
  }
 },
 "nbformat": 4,
 "nbformat_minor": 2
}
